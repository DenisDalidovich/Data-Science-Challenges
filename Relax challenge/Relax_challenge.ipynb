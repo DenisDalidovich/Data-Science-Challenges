{
 "cells": [
  {
   "cell_type": "markdown",
   "metadata": {},
   "source": [
    "# Solution to a Relax Challenge"
   ]
  },
  {
   "cell_type": "markdown",
   "metadata": {},
   "source": [
    "First import all necessary modules"
   ]
  },
  {
   "cell_type": "code",
   "execution_count": 246,
   "metadata": {
    "collapsed": true
   },
   "outputs": [],
   "source": [
    "import numpy as np\n",
    "import pandas as pd\n",
    "import matplotlib.pyplot as plt\n",
    "\n",
    "from datetime import datetime, timedelta"
   ]
  },
  {
   "cell_type": "code",
   "execution_count": 247,
   "metadata": {
    "collapsed": false
   },
   "outputs": [],
   "source": [
    "from sklearn.ensemble import RandomForestClassifier\n",
    "from sklearn.linear_model import LogisticRegression\n",
    "\n",
    "from sklearn.preprocessing import StandardScaler\n",
    "from sklearn.model_selection import train_test_split\n",
    "from sklearn.grid_search import GridSearchCV\n",
    "from sklearn.metrics import classification_report, confusion_matrix"
   ]
  },
  {
   "cell_type": "markdown",
   "metadata": {},
   "source": [
    "### Load data from both files"
   ]
  },
  {
   "cell_type": "code",
   "execution_count": 248,
   "metadata": {
    "collapsed": false
   },
   "outputs": [
    {
     "data": {
      "text/html": [
       "<div>\n",
       "<table border=\"1\" class=\"dataframe\">\n",
       "  <thead>\n",
       "    <tr style=\"text-align: right;\">\n",
       "      <th></th>\n",
       "      <th>object_id</th>\n",
       "      <th>creation_time</th>\n",
       "      <th>name</th>\n",
       "      <th>email</th>\n",
       "      <th>creation_source</th>\n",
       "      <th>last_session_creation_time</th>\n",
       "      <th>opted_in_to_mailing_list</th>\n",
       "      <th>enabled_for_marketing_drip</th>\n",
       "      <th>org_id</th>\n",
       "      <th>invited_by_user_id</th>\n",
       "    </tr>\n",
       "  </thead>\n",
       "  <tbody>\n",
       "    <tr>\n",
       "      <th>11990</th>\n",
       "      <td>11991</td>\n",
       "      <td>2014-04-20 14:22:45</td>\n",
       "      <td>Vaughn Arthur</td>\n",
       "      <td>ArthurJVaughn@gmail.com</td>\n",
       "      <td>SIGNUP_GOOGLE_AUTH</td>\n",
       "      <td>1.401460e+09</td>\n",
       "      <td>0</td>\n",
       "      <td>0</td>\n",
       "      <td>388</td>\n",
       "      <td>NaN</td>\n",
       "    </tr>\n",
       "    <tr>\n",
       "      <th>11991</th>\n",
       "      <td>11992</td>\n",
       "      <td>2014-04-09 19:39:56</td>\n",
       "      <td>Hermansen Amanda</td>\n",
       "      <td>AmandaAHermansen@yahoo.com</td>\n",
       "      <td>PERSONAL_PROJECTS</td>\n",
       "      <td>1.397245e+09</td>\n",
       "      <td>0</td>\n",
       "      <td>0</td>\n",
       "      <td>129</td>\n",
       "      <td>NaN</td>\n",
       "    </tr>\n",
       "    <tr>\n",
       "      <th>11992</th>\n",
       "      <td>11993</td>\n",
       "      <td>2013-03-28 23:24:21</td>\n",
       "      <td>Townsend Isabel</td>\n",
       "      <td>IsabelTownsend@cuvox.de</td>\n",
       "      <td>PERSONAL_PROJECTS</td>\n",
       "      <td>NaN</td>\n",
       "      <td>0</td>\n",
       "      <td>0</td>\n",
       "      <td>281</td>\n",
       "      <td>NaN</td>\n",
       "    </tr>\n",
       "    <tr>\n",
       "      <th>11993</th>\n",
       "      <td>11994</td>\n",
       "      <td>2012-06-05 04:46:16</td>\n",
       "      <td>Grimstone Joel</td>\n",
       "      <td>conxzghp@eaouk.com</td>\n",
       "      <td>GUEST_INVITE</td>\n",
       "      <td>NaN</td>\n",
       "      <td>0</td>\n",
       "      <td>0</td>\n",
       "      <td>84</td>\n",
       "      <td>5450.0</td>\n",
       "    </tr>\n",
       "    <tr>\n",
       "      <th>11994</th>\n",
       "      <td>11995</td>\n",
       "      <td>2013-10-21 13:33:17</td>\n",
       "      <td>Werfel Sebastian</td>\n",
       "      <td>SebastianWerfel@gmail.com</td>\n",
       "      <td>PERSONAL_PROJECTS</td>\n",
       "      <td>1.382449e+09</td>\n",
       "      <td>0</td>\n",
       "      <td>0</td>\n",
       "      <td>0</td>\n",
       "      <td>NaN</td>\n",
       "    </tr>\n",
       "    <tr>\n",
       "      <th>11995</th>\n",
       "      <td>11996</td>\n",
       "      <td>2013-09-06 06:14:15</td>\n",
       "      <td>Meier Sophia</td>\n",
       "      <td>SophiaMeier@gustr.com</td>\n",
       "      <td>ORG_INVITE</td>\n",
       "      <td>1.378448e+09</td>\n",
       "      <td>0</td>\n",
       "      <td>0</td>\n",
       "      <td>89</td>\n",
       "      <td>8263.0</td>\n",
       "    </tr>\n",
       "    <tr>\n",
       "      <th>11996</th>\n",
       "      <td>11997</td>\n",
       "      <td>2013-01-10 18:28:37</td>\n",
       "      <td>Fisher Amelie</td>\n",
       "      <td>AmelieFisher@gmail.com</td>\n",
       "      <td>SIGNUP_GOOGLE_AUTH</td>\n",
       "      <td>1.358275e+09</td>\n",
       "      <td>0</td>\n",
       "      <td>0</td>\n",
       "      <td>200</td>\n",
       "      <td>NaN</td>\n",
       "    </tr>\n",
       "    <tr>\n",
       "      <th>11997</th>\n",
       "      <td>11998</td>\n",
       "      <td>2014-04-27 12:45:16</td>\n",
       "      <td>Haynes Jake</td>\n",
       "      <td>JakeHaynes@cuvox.de</td>\n",
       "      <td>GUEST_INVITE</td>\n",
       "      <td>1.398603e+09</td>\n",
       "      <td>1</td>\n",
       "      <td>1</td>\n",
       "      <td>83</td>\n",
       "      <td>8074.0</td>\n",
       "    </tr>\n",
       "    <tr>\n",
       "      <th>11998</th>\n",
       "      <td>11999</td>\n",
       "      <td>2012-05-31 11:55:59</td>\n",
       "      <td>Faber Annett</td>\n",
       "      <td>mhaerzxp@iuxiw.com</td>\n",
       "      <td>PERSONAL_PROJECTS</td>\n",
       "      <td>1.338638e+09</td>\n",
       "      <td>0</td>\n",
       "      <td>0</td>\n",
       "      <td>6</td>\n",
       "      <td>NaN</td>\n",
       "    </tr>\n",
       "    <tr>\n",
       "      <th>11999</th>\n",
       "      <td>12000</td>\n",
       "      <td>2014-01-26 08:57:12</td>\n",
       "      <td>Lima Thaís</td>\n",
       "      <td>ThaisMeloLima@hotmail.com</td>\n",
       "      <td>SIGNUP</td>\n",
       "      <td>1.390727e+09</td>\n",
       "      <td>0</td>\n",
       "      <td>1</td>\n",
       "      <td>0</td>\n",
       "      <td>NaN</td>\n",
       "    </tr>\n",
       "  </tbody>\n",
       "</table>\n",
       "</div>"
      ],
      "text/plain": [
       "       object_id        creation_time              name  \\\n",
       "11990      11991  2014-04-20 14:22:45     Vaughn Arthur   \n",
       "11991      11992  2014-04-09 19:39:56  Hermansen Amanda   \n",
       "11992      11993  2013-03-28 23:24:21   Townsend Isabel   \n",
       "11993      11994  2012-06-05 04:46:16    Grimstone Joel   \n",
       "11994      11995  2013-10-21 13:33:17  Werfel Sebastian   \n",
       "11995      11996  2013-09-06 06:14:15      Meier Sophia   \n",
       "11996      11997  2013-01-10 18:28:37     Fisher Amelie   \n",
       "11997      11998  2014-04-27 12:45:16       Haynes Jake   \n",
       "11998      11999  2012-05-31 11:55:59      Faber Annett   \n",
       "11999      12000  2014-01-26 08:57:12        Lima Thaís   \n",
       "\n",
       "                            email     creation_source  \\\n",
       "11990     ArthurJVaughn@gmail.com  SIGNUP_GOOGLE_AUTH   \n",
       "11991  AmandaAHermansen@yahoo.com   PERSONAL_PROJECTS   \n",
       "11992     IsabelTownsend@cuvox.de   PERSONAL_PROJECTS   \n",
       "11993          conxzghp@eaouk.com        GUEST_INVITE   \n",
       "11994   SebastianWerfel@gmail.com   PERSONAL_PROJECTS   \n",
       "11995       SophiaMeier@gustr.com          ORG_INVITE   \n",
       "11996      AmelieFisher@gmail.com  SIGNUP_GOOGLE_AUTH   \n",
       "11997         JakeHaynes@cuvox.de        GUEST_INVITE   \n",
       "11998          mhaerzxp@iuxiw.com   PERSONAL_PROJECTS   \n",
       "11999   ThaisMeloLima@hotmail.com              SIGNUP   \n",
       "\n",
       "       last_session_creation_time  opted_in_to_mailing_list  \\\n",
       "11990                1.401460e+09                         0   \n",
       "11991                1.397245e+09                         0   \n",
       "11992                         NaN                         0   \n",
       "11993                         NaN                         0   \n",
       "11994                1.382449e+09                         0   \n",
       "11995                1.378448e+09                         0   \n",
       "11996                1.358275e+09                         0   \n",
       "11997                1.398603e+09                         1   \n",
       "11998                1.338638e+09                         0   \n",
       "11999                1.390727e+09                         0   \n",
       "\n",
       "       enabled_for_marketing_drip  org_id  invited_by_user_id  \n",
       "11990                           0     388                 NaN  \n",
       "11991                           0     129                 NaN  \n",
       "11992                           0     281                 NaN  \n",
       "11993                           0      84              5450.0  \n",
       "11994                           0       0                 NaN  \n",
       "11995                           0      89              8263.0  \n",
       "11996                           0     200                 NaN  \n",
       "11997                           1      83              8074.0  \n",
       "11998                           0       6                 NaN  \n",
       "11999                           1       0                 NaN  "
      ]
     },
     "execution_count": 248,
     "metadata": {},
     "output_type": "execute_result"
    }
   ],
   "source": [
    "# Load data\n",
    "df_users = pd.read_csv('takehome_users.csv', encoding = \"ISO-8859-1\", parse_dates = True)\n",
    "\n",
    "# Preview data\n",
    "\n",
    "#df_users.head()\n",
    "df_users.tail(10)"
   ]
  },
  {
   "cell_type": "code",
   "execution_count": 249,
   "metadata": {
    "collapsed": false
   },
   "outputs": [
    {
     "name": "stdout",
     "output_type": "stream",
     "text": [
      "<class 'pandas.core.frame.DataFrame'>\n",
      "RangeIndex: 12000 entries, 0 to 11999\n",
      "Data columns (total 10 columns):\n",
      "object_id                     12000 non-null int64\n",
      "creation_time                 12000 non-null object\n",
      "name                          12000 non-null object\n",
      "email                         12000 non-null object\n",
      "creation_source               12000 non-null object\n",
      "last_session_creation_time    8823 non-null float64\n",
      "opted_in_to_mailing_list      12000 non-null int64\n",
      "enabled_for_marketing_drip    12000 non-null int64\n",
      "org_id                        12000 non-null int64\n",
      "invited_by_user_id            6417 non-null float64\n",
      "dtypes: float64(2), int64(4), object(4)\n",
      "memory usage: 937.6+ KB\n"
     ]
    }
   ],
   "source": [
    "df_users.info()"
   ]
  },
  {
   "cell_type": "code",
   "execution_count": 250,
   "metadata": {
    "collapsed": false
   },
   "outputs": [
    {
     "name": "stdout",
     "output_type": "stream",
     "text": [
      "<class 'pandas.core.frame.DataFrame'>\n",
      "RangeIndex: 207917 entries, 0 to 207916\n",
      "Data columns (total 3 columns):\n",
      "time_stamp    207917 non-null object\n",
      "user_id       207917 non-null int64\n",
      "visited       207917 non-null int64\n",
      "dtypes: int64(2), object(1)\n",
      "memory usage: 4.8+ MB\n"
     ]
    }
   ],
   "source": [
    "# Load data\n",
    "df_engagements = pd.read_csv('takehome_user_engagement.csv', parse_dates = True)\n",
    "# Get some information about data\n",
    "df_engagements.info()"
   ]
  },
  {
   "cell_type": "code",
   "execution_count": 251,
   "metadata": {
    "collapsed": false
   },
   "outputs": [
    {
     "data": {
      "text/html": [
       "<div>\n",
       "<table border=\"1\" class=\"dataframe\">\n",
       "  <thead>\n",
       "    <tr style=\"text-align: right;\">\n",
       "      <th></th>\n",
       "      <th>time_stamp</th>\n",
       "      <th>user_id</th>\n",
       "      <th>visited</th>\n",
       "    </tr>\n",
       "  </thead>\n",
       "  <tbody>\n",
       "    <tr>\n",
       "      <th>207907</th>\n",
       "      <td>2014-04-28 14:22:45</td>\n",
       "      <td>11991</td>\n",
       "      <td>1</td>\n",
       "    </tr>\n",
       "    <tr>\n",
       "      <th>207908</th>\n",
       "      <td>2014-05-17 14:22:45</td>\n",
       "      <td>11991</td>\n",
       "      <td>1</td>\n",
       "    </tr>\n",
       "    <tr>\n",
       "      <th>207909</th>\n",
       "      <td>2014-05-30 14:22:45</td>\n",
       "      <td>11991</td>\n",
       "      <td>1</td>\n",
       "    </tr>\n",
       "    <tr>\n",
       "      <th>207910</th>\n",
       "      <td>2014-04-11 19:39:56</td>\n",
       "      <td>11992</td>\n",
       "      <td>1</td>\n",
       "    </tr>\n",
       "    <tr>\n",
       "      <th>207911</th>\n",
       "      <td>2013-10-22 13:33:17</td>\n",
       "      <td>11995</td>\n",
       "      <td>1</td>\n",
       "    </tr>\n",
       "    <tr>\n",
       "      <th>207912</th>\n",
       "      <td>2013-09-06 06:14:15</td>\n",
       "      <td>11996</td>\n",
       "      <td>1</td>\n",
       "    </tr>\n",
       "    <tr>\n",
       "      <th>207913</th>\n",
       "      <td>2013-01-15 18:28:37</td>\n",
       "      <td>11997</td>\n",
       "      <td>1</td>\n",
       "    </tr>\n",
       "    <tr>\n",
       "      <th>207914</th>\n",
       "      <td>2014-04-27 12:45:16</td>\n",
       "      <td>11998</td>\n",
       "      <td>1</td>\n",
       "    </tr>\n",
       "    <tr>\n",
       "      <th>207915</th>\n",
       "      <td>2012-06-02 11:55:59</td>\n",
       "      <td>11999</td>\n",
       "      <td>1</td>\n",
       "    </tr>\n",
       "    <tr>\n",
       "      <th>207916</th>\n",
       "      <td>2014-01-26 08:57:12</td>\n",
       "      <td>12000</td>\n",
       "      <td>1</td>\n",
       "    </tr>\n",
       "  </tbody>\n",
       "</table>\n",
       "</div>"
      ],
      "text/plain": [
       "                 time_stamp  user_id  visited\n",
       "207907  2014-04-28 14:22:45    11991        1\n",
       "207908  2014-05-17 14:22:45    11991        1\n",
       "207909  2014-05-30 14:22:45    11991        1\n",
       "207910  2014-04-11 19:39:56    11992        1\n",
       "207911  2013-10-22 13:33:17    11995        1\n",
       "207912  2013-09-06 06:14:15    11996        1\n",
       "207913  2013-01-15 18:28:37    11997        1\n",
       "207914  2014-04-27 12:45:16    11998        1\n",
       "207915  2012-06-02 11:55:59    11999        1\n",
       "207916  2014-01-26 08:57:12    12000        1"
      ]
     },
     "execution_count": 251,
     "metadata": {},
     "output_type": "execute_result"
    }
   ],
   "source": [
    "df_engagements.tail(10)"
   ]
  },
  {
   "cell_type": "markdown",
   "metadata": {},
   "source": [
    "### Preliminary inspection and preprocessing"
   ]
  },
  {
   "cell_type": "markdown",
   "metadata": {},
   "source": [
    "We see that there are 12000 different users and 417 different organizations. "
   ]
  },
  {
   "cell_type": "code",
   "execution_count": 252,
   "metadata": {
    "collapsed": false
   },
   "outputs": [
    {
     "data": {
      "text/plain": [
       "12000"
      ]
     },
     "execution_count": 252,
     "metadata": {},
     "output_type": "execute_result"
    }
   ],
   "source": [
    "len(df_users.object_id.unique())"
   ]
  },
  {
   "cell_type": "code",
   "execution_count": 253,
   "metadata": {
    "collapsed": false
   },
   "outputs": [
    {
     "data": {
      "text/plain": [
       "417"
      ]
     },
     "execution_count": 253,
     "metadata": {},
     "output_type": "execute_result"
    }
   ],
   "source": [
    "len(df_users.org_id.unique())"
   ]
  },
  {
   "cell_type": "markdown",
   "metadata": {},
   "source": [
    "The 'last_session_creation column' contains 3177 missing values, while 'invited_by_user_id' has 5583 missing values."
   ]
  },
  {
   "cell_type": "code",
   "execution_count": 254,
   "metadata": {
    "collapsed": false
   },
   "outputs": [
    {
     "data": {
      "text/plain": [
       "3177"
      ]
     },
     "execution_count": 254,
     "metadata": {},
     "output_type": "execute_result"
    }
   ],
   "source": [
    "df_users.last_session_creation_time.isnull().sum()"
   ]
  },
  {
   "cell_type": "code",
   "execution_count": 255,
   "metadata": {
    "collapsed": false
   },
   "outputs": [
    {
     "data": {
      "text/plain": [
       "5583"
      ]
     },
     "execution_count": 255,
     "metadata": {},
     "output_type": "execute_result"
    }
   ],
   "source": [
    "df_users.invited_by_user_id.isnull().sum()"
   ]
  },
  {
   "cell_type": "markdown",
   "metadata": {},
   "source": [
    "Let's remove from the users dataframe the column that are not useful for the question to be answered, namely the columns \n",
    "'name', 'email', and 'last_session_creation_time'.  \t"
   ]
  },
  {
   "cell_type": "code",
   "execution_count": 256,
   "metadata": {
    "collapsed": true
   },
   "outputs": [],
   "source": [
    "df_users =  df_users.drop(['name', 'email', 'last_session_creation_time'], axis = 1)"
   ]
  },
  {
   "cell_type": "markdown",
   "metadata": {},
   "source": [
    "Regarding the account creation time, let's extract only the year and month, dropping the column 'creation_time'. I do not see the compelling reason to keep the day and time in this problem."
   ]
  },
  {
   "cell_type": "code",
   "execution_count": 257,
   "metadata": {
    "collapsed": false
   },
   "outputs": [],
   "source": [
    "df_users.creation_time = pd.to_datetime(df_users.creation_time)\n",
    "\n",
    "df_users['creation_year'] = df_users.creation_time.dt.year\n",
    "df_users['creation_month'] = df_users.creation_time.dt.month\n",
    "\n",
    "df_users =  df_users.drop('creation_time', axis = 1)\n",
    "\n",
    "#df_users.head()"
   ]
  },
  {
   "cell_type": "markdown",
   "metadata": {},
   "source": [
    "We now create the column describing whether the user was invited by someone else or not. NaN's in the column 'invited_by_user_id' will be converted to zero, meaning that the given user was not invited. At the same time, if 'invited_by_user_id' has some finite value for a given user, we put 1. We then rename the column accordingly."
   ]
  },
  {
   "cell_type": "code",
   "execution_count": 258,
   "metadata": {
    "collapsed": false
   },
   "outputs": [],
   "source": [
    "df_users.invited_by_user_id.fillna(int(0), inplace = True)\n",
    "\n",
    "def change_to_one(series):\n",
    "    if series == 0.0:\n",
    "        return 0\n",
    "    else:\n",
    "        return 1\n",
    "\n",
    "df_users.invited_by_user_id = df_users.invited_by_user_id.apply(change_to_one)\n",
    "\n",
    "df_users = df_users.rename(columns = {'invited_by_user_id':'invited'})\n",
    "\n"
   ]
  },
  {
   "cell_type": "code",
   "execution_count": 259,
   "metadata": {
    "collapsed": false
   },
   "outputs": [
    {
     "data": {
      "text/html": [
       "<div>\n",
       "<table border=\"1\" class=\"dataframe\">\n",
       "  <thead>\n",
       "    <tr style=\"text-align: right;\">\n",
       "      <th></th>\n",
       "      <th>object_id</th>\n",
       "      <th>creation_source</th>\n",
       "      <th>opted_in_to_mailing_list</th>\n",
       "      <th>enabled_for_marketing_drip</th>\n",
       "      <th>org_id</th>\n",
       "      <th>invited</th>\n",
       "      <th>creation_year</th>\n",
       "      <th>creation_month</th>\n",
       "    </tr>\n",
       "  </thead>\n",
       "  <tbody>\n",
       "    <tr>\n",
       "      <th>11995</th>\n",
       "      <td>11996</td>\n",
       "      <td>ORG_INVITE</td>\n",
       "      <td>0</td>\n",
       "      <td>0</td>\n",
       "      <td>89</td>\n",
       "      <td>1</td>\n",
       "      <td>2013</td>\n",
       "      <td>9</td>\n",
       "    </tr>\n",
       "    <tr>\n",
       "      <th>11996</th>\n",
       "      <td>11997</td>\n",
       "      <td>SIGNUP_GOOGLE_AUTH</td>\n",
       "      <td>0</td>\n",
       "      <td>0</td>\n",
       "      <td>200</td>\n",
       "      <td>0</td>\n",
       "      <td>2013</td>\n",
       "      <td>1</td>\n",
       "    </tr>\n",
       "    <tr>\n",
       "      <th>11997</th>\n",
       "      <td>11998</td>\n",
       "      <td>GUEST_INVITE</td>\n",
       "      <td>1</td>\n",
       "      <td>1</td>\n",
       "      <td>83</td>\n",
       "      <td>1</td>\n",
       "      <td>2014</td>\n",
       "      <td>4</td>\n",
       "    </tr>\n",
       "    <tr>\n",
       "      <th>11998</th>\n",
       "      <td>11999</td>\n",
       "      <td>PERSONAL_PROJECTS</td>\n",
       "      <td>0</td>\n",
       "      <td>0</td>\n",
       "      <td>6</td>\n",
       "      <td>0</td>\n",
       "      <td>2012</td>\n",
       "      <td>5</td>\n",
       "    </tr>\n",
       "    <tr>\n",
       "      <th>11999</th>\n",
       "      <td>12000</td>\n",
       "      <td>SIGNUP</td>\n",
       "      <td>0</td>\n",
       "      <td>1</td>\n",
       "      <td>0</td>\n",
       "      <td>0</td>\n",
       "      <td>2014</td>\n",
       "      <td>1</td>\n",
       "    </tr>\n",
       "  </tbody>\n",
       "</table>\n",
       "</div>"
      ],
      "text/plain": [
       "       object_id     creation_source  opted_in_to_mailing_list  \\\n",
       "11995      11996          ORG_INVITE                         0   \n",
       "11996      11997  SIGNUP_GOOGLE_AUTH                         0   \n",
       "11997      11998        GUEST_INVITE                         1   \n",
       "11998      11999   PERSONAL_PROJECTS                         0   \n",
       "11999      12000              SIGNUP                         0   \n",
       "\n",
       "       enabled_for_marketing_drip  org_id  invited  creation_year  \\\n",
       "11995                           0      89        1           2013   \n",
       "11996                           0     200        0           2013   \n",
       "11997                           1      83        1           2014   \n",
       "11998                           0       6        0           2012   \n",
       "11999                           1       0        0           2014   \n",
       "\n",
       "       creation_month  \n",
       "11995               9  \n",
       "11996               1  \n",
       "11997               4  \n",
       "11998               5  \n",
       "11999               1  "
      ]
     },
     "execution_count": 259,
     "metadata": {},
     "output_type": "execute_result"
    }
   ],
   "source": [
    "df_users.tail(5)"
   ]
  },
  {
   "cell_type": "markdown",
   "metadata": {
    "collapsed": true
   },
   "source": [
    "Let's now look at the engagements dataframe. The 'visited' column contains only one's which is very convenient. The 'user_id' column in the engagements dataframe is equivalent to 'object_id' column in the users dataframe. Hence, we rename the 'object_id' column to 'user_id' one for the purpose of merging in the future."
   ]
  },
  {
   "cell_type": "code",
   "execution_count": 260,
   "metadata": {
    "collapsed": false
   },
   "outputs": [
    {
     "data": {
      "text/plain": [
       "array([1], dtype=int64)"
      ]
     },
     "execution_count": 260,
     "metadata": {},
     "output_type": "execute_result"
    }
   ],
   "source": [
    "df_engagements.visited.unique()"
   ]
  },
  {
   "cell_type": "code",
   "execution_count": 261,
   "metadata": {
    "collapsed": false
   },
   "outputs": [
    {
     "name": "stdout",
     "output_type": "stream",
     "text": [
      "Maximum user_id number: 12000 \t Minimum user_id number 1\n"
     ]
    }
   ],
   "source": [
    "print('Maximum user_id number:', df_engagements.user_id.max(), '\\t', \n",
    "      'Minimum user_id number', df_engagements.user_id.min())"
   ]
  },
  {
   "cell_type": "code",
   "execution_count": 262,
   "metadata": {
    "collapsed": true
   },
   "outputs": [],
   "source": [
    "df_users = df_users.rename(columns = {'object_id':'user_id'})"
   ]
  },
  {
   "cell_type": "markdown",
   "metadata": {},
   "source": [
    "### Creating the adopted user column"
   ]
  },
  {
   "cell_type": "markdown",
   "metadata": {},
   "source": [
    "Let's create the dataframe containg the 'user_id' column and the special column named 'adopted_user'. If the user is adopted, the value in the column is 1.0 else 0.0. The dataframe will be called df_adopted."
   ]
  },
  {
   "cell_type": "code",
   "execution_count": 263,
   "metadata": {
    "collapsed": false
   },
   "outputs": [],
   "source": [
    "# sort df_engagements according to the user_id\n",
    "df_engagements.sort_values(by='user_id', ascending=True, inplace= True)\n",
    "df_engagements.reset_index(drop =True, inplace =True)\n",
    "\n",
    "df_engagements.time_stamp = pd.to_datetime(df_engagements.time_stamp)\n"
   ]
  },
  {
   "cell_type": "code",
   "execution_count": 264,
   "metadata": {
    "collapsed": false
   },
   "outputs": [
    {
     "name": "stdout",
     "output_type": "stream",
     "text": [
      "Wall time: 1min 10s\n"
     ]
    }
   ],
   "source": [
    "%%time\n",
    "#the array with user_id's\n",
    "users = df_engagements.user_id.unique()\n",
    "\n",
    "#empty array corresponding to the maximum number of logins within 7 days\n",
    "adopted_user = []\n",
    "\n",
    "for i in users:\n",
    "    logins_of_given_user = df_engagements.time_stamp[(df_engagements.user_id == i)]\n",
    "    logins_of_given_user.reset_index(drop =True, inplace =True)\n",
    "    \n",
    "    if len(logins_of_given_user.index) < 3:\n",
    "        adopted_user.append(0)\n",
    "        #print(i, adopted_user[-1])\n",
    "    else:\n",
    "        for k in range(len(logins_of_given_user.index)):\n",
    "            \n",
    "            logins_within_7days = []\n",
    "            \n",
    "            logins_within_7days.append(len([x for x in logins_of_given_user if \\\n",
    "                ( x >= logins_of_given_user[k] and x <= logins_of_given_user[k] + timedelta(7))]))\n",
    "            \n",
    "            if np.max(logins_within_7days) >=3:\n",
    "                adopted_user.append(1)\n",
    "                #print(i, adopted_user[-1])\n",
    "                break\n",
    "            if k == len(logins_of_given_user.index)-1:\n",
    "                adopted_user.append(0)\n",
    "                #print(i, adopted_user[-1])\n",
    "    \n",
    "     \n",
    "    \n",
    "df_adopted = pd.DataFrame({'user_id':users, 'adopted_user' : adopted_user})"
   ]
  },
  {
   "cell_type": "markdown",
   "metadata": {},
   "source": [
    "We then add another column telling us the total number of logins made by a given user.  "
   ]
  },
  {
   "cell_type": "code",
   "execution_count": 265,
   "metadata": {
    "collapsed": false
   },
   "outputs": [],
   "source": [
    "df_adopted = df_adopted.join(df_engagements.groupby('user_id')['visited'].sum(), on = 'user_id')\n",
    "df_adopted = df_adopted.rename(columns = {'visited':'visited_total'})"
   ]
  },
  {
   "cell_type": "markdown",
   "metadata": {},
   "source": [
    "The new dataframe contains 8823 rows rows in total but only 1656 users are classified as adopted users. We thus have an imbalanced dataset."
   ]
  },
  {
   "cell_type": "code",
   "execution_count": 266,
   "metadata": {
    "collapsed": false
   },
   "outputs": [
    {
     "data": {
      "text/html": [
       "<div>\n",
       "<table border=\"1\" class=\"dataframe\">\n",
       "  <thead>\n",
       "    <tr style=\"text-align: right;\">\n",
       "      <th></th>\n",
       "      <th>adopted_user</th>\n",
       "      <th>user_id</th>\n",
       "      <th>visited_total</th>\n",
       "    </tr>\n",
       "  </thead>\n",
       "  <tbody>\n",
       "    <tr>\n",
       "      <th>0</th>\n",
       "      <td>0</td>\n",
       "      <td>1</td>\n",
       "      <td>1</td>\n",
       "    </tr>\n",
       "    <tr>\n",
       "      <th>1</th>\n",
       "      <td>1</td>\n",
       "      <td>2</td>\n",
       "      <td>14</td>\n",
       "    </tr>\n",
       "    <tr>\n",
       "      <th>2</th>\n",
       "      <td>0</td>\n",
       "      <td>3</td>\n",
       "      <td>1</td>\n",
       "    </tr>\n",
       "    <tr>\n",
       "      <th>3</th>\n",
       "      <td>0</td>\n",
       "      <td>4</td>\n",
       "      <td>1</td>\n",
       "    </tr>\n",
       "    <tr>\n",
       "      <th>4</th>\n",
       "      <td>0</td>\n",
       "      <td>5</td>\n",
       "      <td>1</td>\n",
       "    </tr>\n",
       "    <tr>\n",
       "      <th>5</th>\n",
       "      <td>0</td>\n",
       "      <td>6</td>\n",
       "      <td>1</td>\n",
       "    </tr>\n",
       "    <tr>\n",
       "      <th>6</th>\n",
       "      <td>0</td>\n",
       "      <td>7</td>\n",
       "      <td>1</td>\n",
       "    </tr>\n",
       "    <tr>\n",
       "      <th>7</th>\n",
       "      <td>1</td>\n",
       "      <td>10</td>\n",
       "      <td>284</td>\n",
       "    </tr>\n",
       "    <tr>\n",
       "      <th>8</th>\n",
       "      <td>0</td>\n",
       "      <td>11</td>\n",
       "      <td>1</td>\n",
       "    </tr>\n",
       "    <tr>\n",
       "      <th>9</th>\n",
       "      <td>0</td>\n",
       "      <td>13</td>\n",
       "      <td>1</td>\n",
       "    </tr>\n",
       "    <tr>\n",
       "      <th>10</th>\n",
       "      <td>0</td>\n",
       "      <td>14</td>\n",
       "      <td>1</td>\n",
       "    </tr>\n",
       "    <tr>\n",
       "      <th>11</th>\n",
       "      <td>0</td>\n",
       "      <td>17</td>\n",
       "      <td>1</td>\n",
       "    </tr>\n",
       "    <tr>\n",
       "      <th>12</th>\n",
       "      <td>0</td>\n",
       "      <td>19</td>\n",
       "      <td>2</td>\n",
       "    </tr>\n",
       "    <tr>\n",
       "      <th>13</th>\n",
       "      <td>1</td>\n",
       "      <td>20</td>\n",
       "      <td>7</td>\n",
       "    </tr>\n",
       "    <tr>\n",
       "      <th>14</th>\n",
       "      <td>0</td>\n",
       "      <td>21</td>\n",
       "      <td>1</td>\n",
       "    </tr>\n",
       "    <tr>\n",
       "      <th>15</th>\n",
       "      <td>0</td>\n",
       "      <td>22</td>\n",
       "      <td>1</td>\n",
       "    </tr>\n",
       "    <tr>\n",
       "      <th>16</th>\n",
       "      <td>0</td>\n",
       "      <td>23</td>\n",
       "      <td>1</td>\n",
       "    </tr>\n",
       "    <tr>\n",
       "      <th>17</th>\n",
       "      <td>0</td>\n",
       "      <td>24</td>\n",
       "      <td>1</td>\n",
       "    </tr>\n",
       "    <tr>\n",
       "      <th>18</th>\n",
       "      <td>0</td>\n",
       "      <td>25</td>\n",
       "      <td>2</td>\n",
       "    </tr>\n",
       "    <tr>\n",
       "      <th>19</th>\n",
       "      <td>0</td>\n",
       "      <td>27</td>\n",
       "      <td>1</td>\n",
       "    </tr>\n",
       "  </tbody>\n",
       "</table>\n",
       "</div>"
      ],
      "text/plain": [
       "    adopted_user  user_id  visited_total\n",
       "0              0        1              1\n",
       "1              1        2             14\n",
       "2              0        3              1\n",
       "3              0        4              1\n",
       "4              0        5              1\n",
       "5              0        6              1\n",
       "6              0        7              1\n",
       "7              1       10            284\n",
       "8              0       11              1\n",
       "9              0       13              1\n",
       "10             0       14              1\n",
       "11             0       17              1\n",
       "12             0       19              2\n",
       "13             1       20              7\n",
       "14             0       21              1\n",
       "15             0       22              1\n",
       "16             0       23              1\n",
       "17             0       24              1\n",
       "18             0       25              2\n",
       "19             0       27              1"
      ]
     },
     "execution_count": 266,
     "metadata": {},
     "output_type": "execute_result"
    }
   ],
   "source": [
    "df_adopted.head(20)"
   ]
  },
  {
   "cell_type": "code",
   "execution_count": 267,
   "metadata": {
    "collapsed": false
   },
   "outputs": [
    {
     "data": {
      "text/plain": [
       "1    1656\n",
       "Name: adopted_user, dtype: int64"
      ]
     },
     "execution_count": 267,
     "metadata": {},
     "output_type": "execute_result"
    }
   ],
   "source": [
    "df_adopted.adopted_user[df_adopted.adopted_user ==1.0].value_counts()"
   ]
  },
  {
   "cell_type": "code",
   "execution_count": 268,
   "metadata": {
    "collapsed": false
   },
   "outputs": [
    {
     "data": {
      "text/plain": [
       "8823"
      ]
     },
     "execution_count": 268,
     "metadata": {},
     "output_type": "execute_result"
    }
   ],
   "source": [
    "len(df_adopted.index)"
   ]
  },
  {
   "cell_type": "markdown",
   "metadata": {
    "collapsed": true
   },
   "source": [
    "### Dataframes merge "
   ]
  },
  {
   "cell_type": "markdown",
   "metadata": {},
   "source": [
    "Let's merge df_users and df_adopted dataframes (the new dataframe is called df_merged). There are 3177 NaN's in the 'adopted_user' column. This means that there are 3177 users who created an account but never made a login after that; thus we fill NaN's with zeroes."
   ]
  },
  {
   "cell_type": "code",
   "execution_count": 269,
   "metadata": {
    "collapsed": false
   },
   "outputs": [
    {
     "name": "stdout",
     "output_type": "stream",
     "text": [
      "<class 'pandas.core.frame.DataFrame'>\n",
      "Int64Index: 12000 entries, 0 to 11999\n",
      "Data columns (total 10 columns):\n",
      "user_id                       12000 non-null int64\n",
      "creation_source               12000 non-null object\n",
      "opted_in_to_mailing_list      12000 non-null int64\n",
      "enabled_for_marketing_drip    12000 non-null int64\n",
      "org_id                        12000 non-null int64\n",
      "invited                       12000 non-null int64\n",
      "creation_year                 12000 non-null int64\n",
      "creation_month                12000 non-null int64\n",
      "adopted_user                  8823 non-null float64\n",
      "visited_total                 8823 non-null float64\n",
      "dtypes: float64(2), int64(7), object(1)\n",
      "memory usage: 1.0+ MB\n"
     ]
    }
   ],
   "source": [
    "df_merge = pd.merge(df_users, df_adopted, on = 'user_id', how = 'left')\n",
    "\n",
    "df_merge.info()"
   ]
  },
  {
   "cell_type": "code",
   "execution_count": 270,
   "metadata": {
    "collapsed": false
   },
   "outputs": [
    {
     "data": {
      "text/plain": [
       "3177"
      ]
     },
     "execution_count": 270,
     "metadata": {},
     "output_type": "execute_result"
    }
   ],
   "source": [
    "#df_merge.head(20)\n",
    "df_merge.adopted_user.isnull().sum()"
   ]
  },
  {
   "cell_type": "code",
   "execution_count": 271,
   "metadata": {
    "collapsed": true
   },
   "outputs": [],
   "source": [
    "df_merge.adopted_user.fillna(int(0), inplace = True)\n",
    "df_merge.visited_total.fillna(int(0), inplace = True)\n",
    "# df_merge.head(20)"
   ]
  },
  {
   "cell_type": "code",
   "execution_count": 272,
   "metadata": {
    "collapsed": false
   },
   "outputs": [
    {
     "data": {
      "text/html": [
       "<div>\n",
       "<table border=\"1\" class=\"dataframe\">\n",
       "  <thead>\n",
       "    <tr style=\"text-align: right;\">\n",
       "      <th></th>\n",
       "      <th>user_id</th>\n",
       "      <th>creation_source</th>\n",
       "      <th>opted_in_to_mailing_list</th>\n",
       "      <th>enabled_for_marketing_drip</th>\n",
       "      <th>org_id</th>\n",
       "      <th>invited</th>\n",
       "      <th>creation_year</th>\n",
       "      <th>creation_month</th>\n",
       "      <th>adopted_user</th>\n",
       "      <th>visited_total</th>\n",
       "    </tr>\n",
       "  </thead>\n",
       "  <tbody>\n",
       "    <tr>\n",
       "      <th>0</th>\n",
       "      <td>1</td>\n",
       "      <td>GUEST_INVITE</td>\n",
       "      <td>1</td>\n",
       "      <td>0</td>\n",
       "      <td>11</td>\n",
       "      <td>1</td>\n",
       "      <td>2014</td>\n",
       "      <td>4</td>\n",
       "      <td>0.0</td>\n",
       "      <td>1.0</td>\n",
       "    </tr>\n",
       "    <tr>\n",
       "      <th>1</th>\n",
       "      <td>2</td>\n",
       "      <td>ORG_INVITE</td>\n",
       "      <td>0</td>\n",
       "      <td>0</td>\n",
       "      <td>1</td>\n",
       "      <td>1</td>\n",
       "      <td>2013</td>\n",
       "      <td>11</td>\n",
       "      <td>1.0</td>\n",
       "      <td>14.0</td>\n",
       "    </tr>\n",
       "    <tr>\n",
       "      <th>2</th>\n",
       "      <td>3</td>\n",
       "      <td>ORG_INVITE</td>\n",
       "      <td>0</td>\n",
       "      <td>0</td>\n",
       "      <td>94</td>\n",
       "      <td>1</td>\n",
       "      <td>2013</td>\n",
       "      <td>3</td>\n",
       "      <td>0.0</td>\n",
       "      <td>1.0</td>\n",
       "    </tr>\n",
       "    <tr>\n",
       "      <th>3</th>\n",
       "      <td>4</td>\n",
       "      <td>GUEST_INVITE</td>\n",
       "      <td>0</td>\n",
       "      <td>0</td>\n",
       "      <td>1</td>\n",
       "      <td>1</td>\n",
       "      <td>2013</td>\n",
       "      <td>5</td>\n",
       "      <td>0.0</td>\n",
       "      <td>1.0</td>\n",
       "    </tr>\n",
       "    <tr>\n",
       "      <th>4</th>\n",
       "      <td>5</td>\n",
       "      <td>GUEST_INVITE</td>\n",
       "      <td>0</td>\n",
       "      <td>0</td>\n",
       "      <td>193</td>\n",
       "      <td>1</td>\n",
       "      <td>2013</td>\n",
       "      <td>1</td>\n",
       "      <td>0.0</td>\n",
       "      <td>1.0</td>\n",
       "    </tr>\n",
       "    <tr>\n",
       "      <th>5</th>\n",
       "      <td>6</td>\n",
       "      <td>GUEST_INVITE</td>\n",
       "      <td>0</td>\n",
       "      <td>0</td>\n",
       "      <td>197</td>\n",
       "      <td>1</td>\n",
       "      <td>2013</td>\n",
       "      <td>12</td>\n",
       "      <td>0.0</td>\n",
       "      <td>1.0</td>\n",
       "    </tr>\n",
       "    <tr>\n",
       "      <th>6</th>\n",
       "      <td>7</td>\n",
       "      <td>SIGNUP</td>\n",
       "      <td>0</td>\n",
       "      <td>1</td>\n",
       "      <td>37</td>\n",
       "      <td>0</td>\n",
       "      <td>2012</td>\n",
       "      <td>12</td>\n",
       "      <td>0.0</td>\n",
       "      <td>1.0</td>\n",
       "    </tr>\n",
       "    <tr>\n",
       "      <th>7</th>\n",
       "      <td>8</td>\n",
       "      <td>PERSONAL_PROJECTS</td>\n",
       "      <td>1</td>\n",
       "      <td>1</td>\n",
       "      <td>74</td>\n",
       "      <td>0</td>\n",
       "      <td>2013</td>\n",
       "      <td>7</td>\n",
       "      <td>0.0</td>\n",
       "      <td>0.0</td>\n",
       "    </tr>\n",
       "    <tr>\n",
       "      <th>8</th>\n",
       "      <td>9</td>\n",
       "      <td>PERSONAL_PROJECTS</td>\n",
       "      <td>0</td>\n",
       "      <td>0</td>\n",
       "      <td>302</td>\n",
       "      <td>0</td>\n",
       "      <td>2013</td>\n",
       "      <td>11</td>\n",
       "      <td>0.0</td>\n",
       "      <td>0.0</td>\n",
       "    </tr>\n",
       "    <tr>\n",
       "      <th>9</th>\n",
       "      <td>10</td>\n",
       "      <td>ORG_INVITE</td>\n",
       "      <td>1</td>\n",
       "      <td>1</td>\n",
       "      <td>318</td>\n",
       "      <td>1</td>\n",
       "      <td>2013</td>\n",
       "      <td>1</td>\n",
       "      <td>1.0</td>\n",
       "      <td>284.0</td>\n",
       "    </tr>\n",
       "  </tbody>\n",
       "</table>\n",
       "</div>"
      ],
      "text/plain": [
       "   user_id    creation_source  opted_in_to_mailing_list  \\\n",
       "0        1       GUEST_INVITE                         1   \n",
       "1        2         ORG_INVITE                         0   \n",
       "2        3         ORG_INVITE                         0   \n",
       "3        4       GUEST_INVITE                         0   \n",
       "4        5       GUEST_INVITE                         0   \n",
       "5        6       GUEST_INVITE                         0   \n",
       "6        7             SIGNUP                         0   \n",
       "7        8  PERSONAL_PROJECTS                         1   \n",
       "8        9  PERSONAL_PROJECTS                         0   \n",
       "9       10         ORG_INVITE                         1   \n",
       "\n",
       "   enabled_for_marketing_drip  org_id  invited  creation_year  creation_month  \\\n",
       "0                           0      11        1           2014               4   \n",
       "1                           0       1        1           2013              11   \n",
       "2                           0      94        1           2013               3   \n",
       "3                           0       1        1           2013               5   \n",
       "4                           0     193        1           2013               1   \n",
       "5                           0     197        1           2013              12   \n",
       "6                           1      37        0           2012              12   \n",
       "7                           1      74        0           2013               7   \n",
       "8                           0     302        0           2013              11   \n",
       "9                           1     318        1           2013               1   \n",
       "\n",
       "   adopted_user  visited_total  \n",
       "0           0.0            1.0  \n",
       "1           1.0           14.0  \n",
       "2           0.0            1.0  \n",
       "3           0.0            1.0  \n",
       "4           0.0            1.0  \n",
       "5           0.0            1.0  \n",
       "6           0.0            1.0  \n",
       "7           0.0            0.0  \n",
       "8           0.0            0.0  \n",
       "9           1.0          284.0  "
      ]
     },
     "execution_count": 272,
     "metadata": {},
     "output_type": "execute_result"
    }
   ],
   "source": [
    "df_merge.head(10)"
   ]
  },
  {
   "cell_type": "markdown",
   "metadata": {},
   "source": [
    "### Exploratory Data Analysis"
   ]
  },
  {
   "cell_type": "markdown",
   "metadata": {},
   "source": [
    "Let's first look at the distribution of all users over the year the account was created, and answer the question whether the year of account creation could be a significant factor in the percentage of adopted users. We see that the largest number of accounts were created in 2013, but 2012 and 2013 years of creation gave the largest percentage of users who became adopted."
   ]
  },
  {
   "cell_type": "code",
   "execution_count": 273,
   "metadata": {
    "collapsed": false
   },
   "outputs": [
    {
     "data": {
      "image/png": "[encoded data removed]",
      "text/plain": [
       "<matplotlib.figure.Figure at 0x1cbdf63a940>"
      ]
     },
     "metadata": {},
     "output_type": "display_data"
    }
   ],
   "source": [
    "df_merge.creation_year.value_counts().plot(kind=\"bar\")\n",
    "plt.show()"
   ]
  },
  {
   "cell_type": "code",
   "execution_count": 274,
   "metadata": {
    "collapsed": false
   },
   "outputs": [
    {
     "data": {
      "text/html": [
       "<div>\n",
       "<table border=\"1\" class=\"dataframe\">\n",
       "  <thead>\n",
       "    <tr style=\"text-align: right;\">\n",
       "      <th></th>\n",
       "      <th>adopted_user</th>\n",
       "    </tr>\n",
       "    <tr>\n",
       "      <th>creation_year</th>\n",
       "      <th></th>\n",
       "    </tr>\n",
       "  </thead>\n",
       "  <tbody>\n",
       "    <tr>\n",
       "      <th>2012</th>\n",
       "      <td>0.167322</td>\n",
       "    </tr>\n",
       "    <tr>\n",
       "      <th>2013</th>\n",
       "      <td>0.154158</td>\n",
       "    </tr>\n",
       "    <tr>\n",
       "      <th>2014</th>\n",
       "      <td>0.088744</td>\n",
       "    </tr>\n",
       "  </tbody>\n",
       "</table>\n",
       "</div>"
      ],
      "text/plain": [
       "               adopted_user\n",
       "creation_year              \n",
       "2012               0.167322\n",
       "2013               0.154158\n",
       "2014               0.088744"
      ]
     },
     "execution_count": 274,
     "metadata": {},
     "output_type": "execute_result"
    }
   ],
   "source": [
    "pd.DataFrame(df_merge.groupby('creation_year')['adopted_user'].mean())"
   ]
  },
  {
   "cell_type": "markdown",
   "metadata": {},
   "source": [
    "We then look at the distribution of all users over the sources of creation, and also answer the question of whether the source of account creation could be a significant factor in the percentage of adopted users. We see that the very large number of users (ORG_INVITE) were invited to an organization as full members. We also see that users who were invited to join another user's personal workspace (PERSONAL_PROJECTS) were least likely to become adopted users. Though the number of users who created their accounts using Google authentication is not very large (SIGNUP_GOOGLE_AUTH), rather large percentage of them became adopted users."
   ]
  },
  {
   "cell_type": "code",
   "execution_count": 275,
   "metadata": {
    "collapsed": false
   },
   "outputs": [
    {
     "data": {
      "image/png": "[encoded data removed]",
      "text/plain": [
       "<matplotlib.figure.Figure at 0x1cbd2394c50>"
      ]
     },
     "metadata": {},
     "output_type": "display_data"
    }
   ],
   "source": [
    "df_merge.creation_source.value_counts().plot(kind=\"bar\")\n",
    "plt.show()"
   ]
  },
  {
   "cell_type": "code",
   "execution_count": 276,
   "metadata": {
    "collapsed": false
   },
   "outputs": [
    {
     "data": {
      "text/html": [
       "<div>\n",
       "<table border=\"1\" class=\"dataframe\">\n",
       "  <thead>\n",
       "    <tr style=\"text-align: right;\">\n",
       "      <th></th>\n",
       "      <th>adopted_user</th>\n",
       "    </tr>\n",
       "    <tr>\n",
       "      <th>creation_source</th>\n",
       "      <th></th>\n",
       "    </tr>\n",
       "  </thead>\n",
       "  <tbody>\n",
       "    <tr>\n",
       "      <th>GUEST_INVITE</th>\n",
       "      <td>0.170596</td>\n",
       "    </tr>\n",
       "    <tr>\n",
       "      <th>ORG_INVITE</th>\n",
       "      <td>0.134932</td>\n",
       "    </tr>\n",
       "    <tr>\n",
       "      <th>PERSONAL_PROJECTS</th>\n",
       "      <td>0.081478</td>\n",
       "    </tr>\n",
       "    <tr>\n",
       "      <th>SIGNUP</th>\n",
       "      <td>0.144705</td>\n",
       "    </tr>\n",
       "    <tr>\n",
       "      <th>SIGNUP_GOOGLE_AUTH</th>\n",
       "      <td>0.172563</td>\n",
       "    </tr>\n",
       "  </tbody>\n",
       "</table>\n",
       "</div>"
      ],
      "text/plain": [
       "                    adopted_user\n",
       "creation_source                 \n",
       "GUEST_INVITE            0.170596\n",
       "ORG_INVITE              0.134932\n",
       "PERSONAL_PROJECTS       0.081478\n",
       "SIGNUP                  0.144705\n",
       "SIGNUP_GOOGLE_AUTH      0.172563"
      ]
     },
     "execution_count": 276,
     "metadata": {},
     "output_type": "execute_result"
    }
   ],
   "source": [
    "pd.DataFrame(df_merge.groupby('creation_source')['adopted_user'].mean())"
   ]
  },
  {
   "cell_type": "markdown",
   "metadata": {},
   "source": [
    "We also see that there is a selected number of organizations membership in which  led to a high percentage of adopted users."
   ]
  },
  {
   "cell_type": "code",
   "execution_count": 277,
   "metadata": {
    "collapsed": false
   },
   "outputs": [
    {
     "data": {
      "text/plain": [
       "org_id\n",
       "387    0.583333\n",
       "235    0.461538\n",
       "270    0.428571\n",
       "399    0.384615\n",
       "415    0.375000\n",
       "400    0.375000\n",
       "392    0.375000\n",
       "117    0.363636\n",
       "345    0.357143\n",
       "318    0.352941\n",
       "289    0.352941\n",
       "291    0.352941\n",
       "306    0.333333\n",
       "381    0.333333\n",
       "161    0.333333\n",
       "395    0.333333\n",
       "218    0.333333\n",
       "82     0.333333\n",
       "281    0.333333\n",
       "177    0.315789\n",
       "62     0.307692\n",
       "305    0.307692\n",
       "343    0.300000\n",
       "352    0.300000\n",
       "366    0.294118\n",
       "273    0.294118\n",
       "280    0.294118\n",
       "225    0.294118\n",
       "282    0.294118\n",
       "238    0.294118\n",
       "         ...   \n",
       "362    0.052632\n",
       "327    0.050000\n",
       "158    0.050000\n",
       "220    0.050000\n",
       "349    0.045455\n",
       "125    0.045455\n",
       "229    0.043478\n",
       "406    0.043478\n",
       "143    0.043478\n",
       "204    0.040000\n",
       "26     0.037736\n",
       "0      0.037618\n",
       "86     0.028571\n",
       "51     0.026316\n",
       "412    0.000000\n",
       "396    0.000000\n",
       "394    0.000000\n",
       "365    0.000000\n",
       "355    0.000000\n",
       "346    0.000000\n",
       "329    0.000000\n",
       "310    0.000000\n",
       "307    0.000000\n",
       "299    0.000000\n",
       "279    0.000000\n",
       "242    0.000000\n",
       "237    0.000000\n",
       "183    0.000000\n",
       "151    0.000000\n",
       "416    0.000000\n",
       "Name: adopted_user, dtype: float64"
      ]
     },
     "execution_count": 277,
     "metadata": {},
     "output_type": "execute_result"
    }
   ],
   "source": [
    "df_merge.groupby('org_id')['adopted_user'].mean().sort_values(ascending = False)"
   ]
  },
  {
   "cell_type": "markdown",
   "metadata": {},
   "source": [
    "Finishing our exploratory data analysis, we notice that the month in which the account was created, whether a user opted into receiving marketing emails, was on the regular marketing email drip and was invited by someone else, are most likely not significant factors determining whether the user achieved adopted status. "
   ]
  },
  {
   "cell_type": "code",
   "execution_count": 278,
   "metadata": {
    "collapsed": false
   },
   "outputs": [
    {
     "data": {
      "text/html": [
       "<div>\n",
       "<table border=\"1\" class=\"dataframe\">\n",
       "  <thead>\n",
       "    <tr style=\"text-align: right;\">\n",
       "      <th></th>\n",
       "      <th>adopted_user</th>\n",
       "    </tr>\n",
       "    <tr>\n",
       "      <th>opted_in_to_mailing_list</th>\n",
       "      <th></th>\n",
       "    </tr>\n",
       "  </thead>\n",
       "  <tbody>\n",
       "    <tr>\n",
       "      <th>0</th>\n",
       "      <td>0.136243</td>\n",
       "    </tr>\n",
       "    <tr>\n",
       "      <th>1</th>\n",
       "      <td>0.143287</td>\n",
       "    </tr>\n",
       "  </tbody>\n",
       "</table>\n",
       "</div>"
      ],
      "text/plain": [
       "                          adopted_user\n",
       "opted_in_to_mailing_list              \n",
       "0                             0.136243\n",
       "1                             0.143287"
      ]
     },
     "execution_count": 278,
     "metadata": {},
     "output_type": "execute_result"
    }
   ],
   "source": [
    "pd.DataFrame(df_merge.groupby('opted_in_to_mailing_list')['adopted_user'].mean())"
   ]
  },
  {
   "cell_type": "code",
   "execution_count": 279,
   "metadata": {
    "collapsed": false
   },
   "outputs": [
    {
     "data": {
      "text/html": [
       "<div>\n",
       "<table border=\"1\" class=\"dataframe\">\n",
       "  <thead>\n",
       "    <tr style=\"text-align: right;\">\n",
       "      <th></th>\n",
       "      <th>adopted_user</th>\n",
       "    </tr>\n",
       "    <tr>\n",
       "      <th>enabled_for_marketing_drip</th>\n",
       "      <th></th>\n",
       "    </tr>\n",
       "  </thead>\n",
       "  <tbody>\n",
       "    <tr>\n",
       "      <th>0</th>\n",
       "      <td>0.137049</td>\n",
       "    </tr>\n",
       "    <tr>\n",
       "      <th>1</th>\n",
       "      <td>0.143415</td>\n",
       "    </tr>\n",
       "  </tbody>\n",
       "</table>\n",
       "</div>"
      ],
      "text/plain": [
       "                            adopted_user\n",
       "enabled_for_marketing_drip              \n",
       "0                               0.137049\n",
       "1                               0.143415"
      ]
     },
     "execution_count": 279,
     "metadata": {},
     "output_type": "execute_result"
    }
   ],
   "source": [
    "pd.DataFrame(df_merge.groupby('enabled_for_marketing_drip')['adopted_user'].mean())"
   ]
  },
  {
   "cell_type": "code",
   "execution_count": 280,
   "metadata": {
    "collapsed": false
   },
   "outputs": [
    {
     "data": {
      "text/html": [
       "<div>\n",
       "<table border=\"1\" class=\"dataframe\">\n",
       "  <thead>\n",
       "    <tr style=\"text-align: right;\">\n",
       "      <th></th>\n",
       "      <th>adopted_user</th>\n",
       "    </tr>\n",
       "    <tr>\n",
       "      <th>invited</th>\n",
       "      <th></th>\n",
       "    </tr>\n",
       "  </thead>\n",
       "  <tbody>\n",
       "    <tr>\n",
       "      <th>0</th>\n",
       "      <td>0.127709</td>\n",
       "    </tr>\n",
       "    <tr>\n",
       "      <th>1</th>\n",
       "      <td>0.146953</td>\n",
       "    </tr>\n",
       "  </tbody>\n",
       "</table>\n",
       "</div>"
      ],
      "text/plain": [
       "         adopted_user\n",
       "invited              \n",
       "0            0.127709\n",
       "1            0.146953"
      ]
     },
     "execution_count": 280,
     "metadata": {},
     "output_type": "execute_result"
    }
   ],
   "source": [
    "pd.DataFrame(df_merge.groupby('invited')['adopted_user'].mean())"
   ]
  },
  {
   "cell_type": "code",
   "execution_count": 281,
   "metadata": {
    "collapsed": false
   },
   "outputs": [
    {
     "data": {
      "image/png": "[encoded data removed]",
      "text/plain": [
       "<matplotlib.figure.Figure at 0x1cbcc8c7438>"
      ]
     },
     "metadata": {},
     "output_type": "display_data"
    }
   ],
   "source": [
    "df_merge.creation_month.value_counts().plot(kind=\"bar\")\n",
    "plt.show()"
   ]
  },
  {
   "cell_type": "code",
   "execution_count": 282,
   "metadata": {
    "collapsed": false
   },
   "outputs": [
    {
     "data": {
      "text/html": [
       "<div>\n",
       "<table border=\"1\" class=\"dataframe\">\n",
       "  <thead>\n",
       "    <tr style=\"text-align: right;\">\n",
       "      <th></th>\n",
       "      <th>adopted_user</th>\n",
       "    </tr>\n",
       "    <tr>\n",
       "      <th>creation_month</th>\n",
       "      <th></th>\n",
       "    </tr>\n",
       "  </thead>\n",
       "  <tbody>\n",
       "    <tr>\n",
       "      <th>6</th>\n",
       "      <td>0.181926</td>\n",
       "    </tr>\n",
       "    <tr>\n",
       "      <th>10</th>\n",
       "      <td>0.175325</td>\n",
       "    </tr>\n",
       "    <tr>\n",
       "      <th>8</th>\n",
       "      <td>0.170188</td>\n",
       "    </tr>\n",
       "    <tr>\n",
       "      <th>11</th>\n",
       "      <td>0.161325</td>\n",
       "    </tr>\n",
       "    <tr>\n",
       "      <th>9</th>\n",
       "      <td>0.157603</td>\n",
       "    </tr>\n",
       "    <tr>\n",
       "      <th>2</th>\n",
       "      <td>0.146681</td>\n",
       "    </tr>\n",
       "    <tr>\n",
       "      <th>12</th>\n",
       "      <td>0.146237</td>\n",
       "    </tr>\n",
       "    <tr>\n",
       "      <th>1</th>\n",
       "      <td>0.145773</td>\n",
       "    </tr>\n",
       "    <tr>\n",
       "      <th>7</th>\n",
       "      <td>0.144366</td>\n",
       "    </tr>\n",
       "    <tr>\n",
       "      <th>3</th>\n",
       "      <td>0.139337</td>\n",
       "    </tr>\n",
       "    <tr>\n",
       "      <th>4</th>\n",
       "      <td>0.098375</td>\n",
       "    </tr>\n",
       "    <tr>\n",
       "      <th>5</th>\n",
       "      <td>0.053608</td>\n",
       "    </tr>\n",
       "  </tbody>\n",
       "</table>\n",
       "</div>"
      ],
      "text/plain": [
       "                adopted_user\n",
       "creation_month              \n",
       "6                   0.181926\n",
       "10                  0.175325\n",
       "8                   0.170188\n",
       "11                  0.161325\n",
       "9                   0.157603\n",
       "2                   0.146681\n",
       "12                  0.146237\n",
       "1                   0.145773\n",
       "7                   0.144366\n",
       "3                   0.139337\n",
       "4                   0.098375\n",
       "5                   0.053608"
      ]
     },
     "execution_count": 282,
     "metadata": {},
     "output_type": "execute_result"
    }
   ],
   "source": [
    "pd.DataFrame(df_merge.groupby('creation_month')['adopted_user'].mean().sort_values(ascending = False))"
   ]
  },
  {
   "cell_type": "markdown",
   "metadata": {},
   "source": [
    "### Predictive Modelling"
   ]
  },
  {
   "cell_type": "markdown",
   "metadata": {},
   "source": [
    "We now do the predictive modelling to determine the factors that predict the future user adoption. We have a binary classification problem for the imbalanced dataset. We first pd.get_dummies to encode the 'creation_year' and 'creation_source' variables. "
   ]
  },
  {
   "cell_type": "code",
   "execution_count": 283,
   "metadata": {
    "collapsed": false
   },
   "outputs": [],
   "source": [
    "df_merge['creation_year']  = df_merge['creation_year'].astype(str)\n",
    "df_merge = pd.get_dummies(df_merge, columns= ['creation_year', 'creation_source'])\n",
    "\n",
    "#df_merge.head()"
   ]
  },
  {
   "cell_type": "markdown",
   "metadata": {},
   "source": [
    "Then, the column 'org_id' is very particular. It contains the number of organization that affects the percentage of adopted users. Thus rather than using the number, we will use the average percentage of adopted users affiliated with this organization. We will also drop the 'user_id' column for the purpose of making predictions."
   ]
  },
  {
   "cell_type": "code",
   "execution_count": 284,
   "metadata": {
    "collapsed": false
   },
   "outputs": [],
   "source": [
    "df_merge = df_merge.join(df_merge.groupby('org_id')['adopted_user'].mean(), on='org_id', rsuffix='_pct_on_org_id')\n",
    "df_merge = df_merge.rename(columns = {'adopted_user_pct_on_org_id':'effective_org_id'})\n",
    "\n",
    "\n",
    "df_merge = df_merge.drop(['org_id', 'user_id'], axis = 1)"
   ]
  },
  {
   "cell_type": "code",
   "execution_count": 285,
   "metadata": {
    "collapsed": false
   },
   "outputs": [],
   "source": [
    "# create predictor andmstarget variables\n",
    "\n",
    "X = df_merge.drop('adopted_user',axis =1).values\n",
    "#X.info()\n",
    "\n",
    "y = df_merge['adopted_user'].values\n",
    "\n",
    "# create the list containing the relevant columns\n",
    "column_names = df_merge.drop('adopted_user',axis =1).columns.values"
   ]
  },
  {
   "cell_type": "markdown",
   "metadata": {},
   "source": [
    "We will use first the Gradient Boosting Classifier from the family of ensemble methods. The hyperparameters are determined using 5-fold cross-validation, and 70/30 percent of the dataset are used for training and test. "
   ]
  },
  {
   "cell_type": "code",
   "execution_count": 286,
   "metadata": {
    "collapsed": false
   },
   "outputs": [
    {
     "name": "stdout",
     "output_type": "stream",
     "text": [
      "The values of best parameters: {'subsample': 0.6}\n",
      "Training score: 0.999257773686\n",
      "Test score: 0.998164624226\n",
      "[[3070   33]\n",
      " [  31  466]]\n",
      "             precision    recall  f1-score   support\n",
      "\n",
      "        0.0       0.99      0.99      0.99      3103\n",
      "        1.0       0.93      0.94      0.94       497\n",
      "\n",
      "avg / total       0.98      0.98      0.98      3600\n",
      "\n",
      "Wall time: 35.3 s\n"
     ]
    },
    {
     "name": "stderr",
     "output_type": "stream",
     "text": [
      "C:\\ProgramData\\Anaconda3\\lib\\site-packages\\sklearn\\grid_search.py:438: ChangedBehaviorWarning: The long-standing behavior to use the estimator's score function in GridSearchCV.score has changed. The scoring parameter is now used.\n",
      "  ChangedBehaviorWarning)\n"
     ]
    }
   ],
   "source": [
    "%%time\n",
    "\n",
    "from sklearn.ensemble import GradientBoostingClassifier\n",
    "\n",
    "gbc = GradientBoostingClassifier(loss = 'deviance', warm_start = True)\n",
    "X =  StandardScaler().fit_transform(X)\n",
    "boost_params = {'subsample': [.1, .2, .4, .6, .8, 1.]}\n",
    "\n",
    "X_train, X_test, y_train, y_test = train_test_split(X, y, test_size=0.3, random_state = 42, stratify = y)\n",
    "\n",
    "cv_gbc = GridSearchCV(gbc, boost_params, cv=5, scoring = 'roc_auc')\n",
    "\n",
    "cv_gbc.fit(X_train, y_train)\n",
    "\n",
    "y_pred_gbc = cv_gbc.predict(X_test)\n",
    "\n",
    "print('The values of best parameters:',cv_gbc.best_params_)\n",
    "\n",
    "\n",
    "gbc_training_score = cv_gbc.score(X_train, y_train)\n",
    "gbc_test_score = cv_gbc.score(X_test, y_test)\n",
    "gbc_confusion_matrix = confusion_matrix(y_test, y_pred_gbc)\n",
    "gbc_classification_report = classification_report(y_test, y_pred_gbc)\n",
    "\n",
    "print('Training score:', gbc_training_score)\n",
    "print('Test score:', gbc_test_score)\n",
    "\n",
    "print(gbc_confusion_matrix)\n",
    "print(gbc_classification_report)"
   ]
  },
  {
   "cell_type": "markdown",
   "metadata": {},
   "source": [
    "Let's now determine the feature importances in the Gradient Boosting Classifier."
   ]
  },
  {
   "cell_type": "code",
   "execution_count": 289,
   "metadata": {
    "collapsed": false
   },
   "outputs": [
    {
     "data": {
      "text/html": [
       "<div>\n",
       "<table border=\"1\" class=\"dataframe\">\n",
       "  <thead>\n",
       "    <tr style=\"text-align: right;\">\n",
       "      <th></th>\n",
       "      <th>COLUMN_NAME</th>\n",
       "      <th>GBC_COEFF</th>\n",
       "    </tr>\n",
       "  </thead>\n",
       "  <tbody>\n",
       "    <tr>\n",
       "      <th>4</th>\n",
       "      <td>visited_total</td>\n",
       "      <td>0.585028</td>\n",
       "    </tr>\n",
       "    <tr>\n",
       "      <th>13</th>\n",
       "      <td>effective_org_id</td>\n",
       "      <td>0.191056</td>\n",
       "    </tr>\n",
       "    <tr>\n",
       "      <th>3</th>\n",
       "      <td>creation_month</td>\n",
       "      <td>0.071849</td>\n",
       "    </tr>\n",
       "    <tr>\n",
       "      <th>7</th>\n",
       "      <td>creation_year_2014</td>\n",
       "      <td>0.061771</td>\n",
       "    </tr>\n",
       "    <tr>\n",
       "      <th>2</th>\n",
       "      <td>invited</td>\n",
       "      <td>0.020598</td>\n",
       "    </tr>\n",
       "    <tr>\n",
       "      <th>6</th>\n",
       "      <td>creation_year_2013</td>\n",
       "      <td>0.012973</td>\n",
       "    </tr>\n",
       "    <tr>\n",
       "      <th>10</th>\n",
       "      <td>creation_source_PERSONAL_PROJECTS</td>\n",
       "      <td>0.012377</td>\n",
       "    </tr>\n",
       "    <tr>\n",
       "      <th>11</th>\n",
       "      <td>creation_source_SIGNUP</td>\n",
       "      <td>0.012197</td>\n",
       "    </tr>\n",
       "    <tr>\n",
       "      <th>5</th>\n",
       "      <td>creation_year_2012</td>\n",
       "      <td>0.008763</td>\n",
       "    </tr>\n",
       "    <tr>\n",
       "      <th>8</th>\n",
       "      <td>creation_source_GUEST_INVITE</td>\n",
       "      <td>0.007380</td>\n",
       "    </tr>\n",
       "    <tr>\n",
       "      <th>12</th>\n",
       "      <td>creation_source_SIGNUP_GOOGLE_AUTH</td>\n",
       "      <td>0.007013</td>\n",
       "    </tr>\n",
       "    <tr>\n",
       "      <th>1</th>\n",
       "      <td>enabled_for_marketing_drip</td>\n",
       "      <td>0.006770</td>\n",
       "    </tr>\n",
       "    <tr>\n",
       "      <th>0</th>\n",
       "      <td>opted_in_to_mailing_list</td>\n",
       "      <td>0.002227</td>\n",
       "    </tr>\n",
       "    <tr>\n",
       "      <th>9</th>\n",
       "      <td>creation_source_ORG_INVITE</td>\n",
       "      <td>0.000000</td>\n",
       "    </tr>\n",
       "  </tbody>\n",
       "</table>\n",
       "</div>"
      ],
      "text/plain": [
       "                           COLUMN_NAME  GBC_COEFF\n",
       "4                        visited_total   0.585028\n",
       "13                    effective_org_id   0.191056\n",
       "3                       creation_month   0.071849\n",
       "7                   creation_year_2014   0.061771\n",
       "2                              invited   0.020598\n",
       "6                   creation_year_2013   0.012973\n",
       "10   creation_source_PERSONAL_PROJECTS   0.012377\n",
       "11              creation_source_SIGNUP   0.012197\n",
       "5                   creation_year_2012   0.008763\n",
       "8         creation_source_GUEST_INVITE   0.007380\n",
       "12  creation_source_SIGNUP_GOOGLE_AUTH   0.007013\n",
       "1           enabled_for_marketing_drip   0.006770\n",
       "0             opted_in_to_mailing_list   0.002227\n",
       "9           creation_source_ORG_INVITE   0.000000"
      ]
     },
     "execution_count": 289,
     "metadata": {},
     "output_type": "execute_result"
    }
   ],
   "source": [
    "# examining the feature importances\n",
    "\n",
    "gbc_coeff = GradientBoostingClassifier(loss = 'deviance', warm_start = True)\\\n",
    "                                  .fit(X_train, y_train).feature_importances_\n",
    "\n",
    "    \n",
    "df_gbc_coeff = pd.DataFrame(column_names, columns = ['COLUMN_NAME'])\n",
    "df_gbc_coeff['GBC_COEFF'] = np.transpose(gbc_coeff)\n",
    "\n",
    "df_gbc_coeff.sort_values(by ='GBC_COEFF', ascending = False, inplace =True)\n",
    "\n",
    "writer1 = pd.ExcelWriter('gbc_table.xlsx')\n",
    "df_gbc_coeff.to_excel(writer1)\n",
    "writer1.save()\n",
    "\n",
    "df_gbc_coeff"
   ]
  },
  {
   "cell_type": "markdown",
   "metadata": {},
   "source": [
    "We then use the Logistic Regreesion and examine the feature importances."
   ]
  },
  {
   "cell_type": "code",
   "execution_count": 290,
   "metadata": {
    "collapsed": false
   },
   "outputs": [
    {
     "name": "stdout",
     "output_type": "stream",
     "text": [
      "The value of C is: {'C': 1.0, 'penalty': 'l1'}\n",
      "Training score: 0.998699048499\n",
      "Test score: 0.998139011316\n",
      "[[3044   59]\n",
      " [  14  483]]\n",
      "             precision    recall  f1-score   support\n",
      "\n",
      "        0.0       1.00      0.98      0.99      3103\n",
      "        1.0       0.89      0.97      0.93       497\n",
      "\n",
      "avg / total       0.98      0.98      0.98      3600\n",
      "\n",
      "Wall time: 6.75 s\n"
     ]
    },
    {
     "name": "stderr",
     "output_type": "stream",
     "text": [
      "C:\\ProgramData\\Anaconda3\\lib\\site-packages\\sklearn\\grid_search.py:438: ChangedBehaviorWarning: The long-standing behavior to use the estimator's score function in GridSearchCV.score has changed. The scoring parameter is now used.\n",
      "  ChangedBehaviorWarning)\n"
     ]
    }
   ],
   "source": [
    "%%time\n",
    "\n",
    "logreg = LogisticRegression(class_weight = 'balanced')\n",
    "X =  StandardScaler().fit_transform(X)\n",
    "parameters = {\"C\": [0.001, 0.01, 0.1, 1.], \"penalty\": ['l1', 'l2']}\n",
    "\n",
    "X_train, X_test, y_train, y_test = train_test_split(X, y, test_size=0.3, random_state = 42, stratify = y)\n",
    "\n",
    "cv_logreg = GridSearchCV(logreg, param_grid = parameters, cv = 5, scoring = 'roc_auc')\n",
    "cv_logreg.fit(X_train, y_train)\n",
    "\n",
    "y_pred_logreg = cv_logreg.predict(X_test)\n",
    "\n",
    "print('The value of C is:',cv_logreg.best_params_)\n",
    "\n",
    "logreg_training_score = cv_logreg.score(X_train, y_train)\n",
    "logreg_test_score = cv_logreg.score(X_test, y_test)\n",
    "logreg_confusion_matrix = confusion_matrix(y_test, y_pred_logreg)\n",
    "logreg_classification_report = classification_report(y_test, y_pred_logreg)\n",
    "\n",
    "print('Training score:', logreg_training_score)\n",
    "print('Test score:', logreg_test_score)\n",
    "\n",
    "print(logreg_confusion_matrix)\n",
    "print(logreg_classification_report)"
   ]
  },
  {
   "cell_type": "code",
   "execution_count": 291,
   "metadata": {
    "collapsed": false
   },
   "outputs": [
    {
     "data": {
      "text/html": [
       "<div>\n",
       "<table border=\"1\" class=\"dataframe\">\n",
       "  <thead>\n",
       "    <tr style=\"text-align: right;\">\n",
       "      <th></th>\n",
       "      <th>COLUMN_NAME</th>\n",
       "      <th>LOGREG_COEFF</th>\n",
       "    </tr>\n",
       "  </thead>\n",
       "  <tbody>\n",
       "    <tr>\n",
       "      <th>4</th>\n",
       "      <td>visited_total</td>\n",
       "      <td>70.633359</td>\n",
       "    </tr>\n",
       "    <tr>\n",
       "      <th>13</th>\n",
       "      <td>effective_org_id</td>\n",
       "      <td>0.533653</td>\n",
       "    </tr>\n",
       "    <tr>\n",
       "      <th>1</th>\n",
       "      <td>enabled_for_marketing_drip</td>\n",
       "      <td>0.235791</td>\n",
       "    </tr>\n",
       "    <tr>\n",
       "      <th>3</th>\n",
       "      <td>creation_month</td>\n",
       "      <td>0.224233</td>\n",
       "    </tr>\n",
       "    <tr>\n",
       "      <th>10</th>\n",
       "      <td>creation_source_PERSONAL_PROJECTS</td>\n",
       "      <td>0.182699</td>\n",
       "    </tr>\n",
       "    <tr>\n",
       "      <th>7</th>\n",
       "      <td>creation_year_2014</td>\n",
       "      <td>0.157978</td>\n",
       "    </tr>\n",
       "    <tr>\n",
       "      <th>0</th>\n",
       "      <td>opted_in_to_mailing_list</td>\n",
       "      <td>0.140210</td>\n",
       "    </tr>\n",
       "    <tr>\n",
       "      <th>5</th>\n",
       "      <td>creation_year_2012</td>\n",
       "      <td>0.033838</td>\n",
       "    </tr>\n",
       "    <tr>\n",
       "      <th>12</th>\n",
       "      <td>creation_source_SIGNUP_GOOGLE_AUTH</td>\n",
       "      <td>0.030881</td>\n",
       "    </tr>\n",
       "    <tr>\n",
       "      <th>9</th>\n",
       "      <td>creation_source_ORG_INVITE</td>\n",
       "      <td>0.028164</td>\n",
       "    </tr>\n",
       "    <tr>\n",
       "      <th>8</th>\n",
       "      <td>creation_source_GUEST_INVITE</td>\n",
       "      <td>0.011217</td>\n",
       "    </tr>\n",
       "    <tr>\n",
       "      <th>2</th>\n",
       "      <td>invited</td>\n",
       "      <td>0.000000</td>\n",
       "    </tr>\n",
       "    <tr>\n",
       "      <th>6</th>\n",
       "      <td>creation_year_2013</td>\n",
       "      <td>0.000000</td>\n",
       "    </tr>\n",
       "    <tr>\n",
       "      <th>11</th>\n",
       "      <td>creation_source_SIGNUP</td>\n",
       "      <td>0.000000</td>\n",
       "    </tr>\n",
       "  </tbody>\n",
       "</table>\n",
       "</div>"
      ],
      "text/plain": [
       "                           COLUMN_NAME  LOGREG_COEFF\n",
       "4                        visited_total     70.633359\n",
       "13                    effective_org_id      0.533653\n",
       "1           enabled_for_marketing_drip      0.235791\n",
       "3                       creation_month      0.224233\n",
       "10   creation_source_PERSONAL_PROJECTS      0.182699\n",
       "7                   creation_year_2014      0.157978\n",
       "0             opted_in_to_mailing_list      0.140210\n",
       "5                   creation_year_2012      0.033838\n",
       "12  creation_source_SIGNUP_GOOGLE_AUTH      0.030881\n",
       "9           creation_source_ORG_INVITE      0.028164\n",
       "8         creation_source_GUEST_INVITE      0.011217\n",
       "2                              invited      0.000000\n",
       "6                   creation_year_2013      0.000000\n",
       "11              creation_source_SIGNUP      0.000000"
      ]
     },
     "execution_count": 291,
     "metadata": {},
     "output_type": "execute_result"
    }
   ],
   "source": [
    "# examining the coefficients\n",
    "\n",
    "logreg_coeff = LogisticRegression(class_weight = 'balanced', penalty = 'l1', \n",
    "                                  C = cv_logreg.best_params_['C']).fit(X_train, y_train).coef_\n",
    "\n",
    "df_logit_coeff = pd.DataFrame(column_names, columns = ['COLUMN_NAME'])\n",
    "df_logit_coeff['LOGREG_COEFF'] = np.transpose(np.abs(logreg_coeff))\n",
    "df_logit_coeff.sort_values(by ='LOGREG_COEFF', ascending = False, inplace =True)\n",
    "\n",
    "writer2 = pd.ExcelWriter('logreg_table.xlsx')\n",
    "df_logit_coeff.to_excel(writer2)\n",
    "writer2.save()\n",
    "\n",
    "df_logit_coeff"
   ]
  },
  {
   "cell_type": "markdown",
   "metadata": {},
   "source": [
    "We see that two prediction methods of different nature give accuracies that do not differ much, and both accuracies are high. Two methods lead to different relations between precision and recall. Looking at the feature importances, we can make the following conclusions.\n",
    "\n",
    "1) In all methods the most important feature is the total number of logins. The more visits the user made, the higher probability that the user became an adopted one. This result is quite natural, but does not answer the question which other factors stimulated logins.\n",
    "\n",
    "2) The second most important feature is 'effective_org_id' that gives the percentage of adopted users affiliated with a given organization. There are organizations with fraction of adopted users as high as 0.3-0.5; however there are organizations with  extremely small fraction of adopted users. In order to stimulate logins, and hence increase the number of adopted users, it is useful to understand what the interests of organizations with high and low percentages of adopted users are, and what the affiliated users are looking for. One needs to analyze other datasets with the information about the specific purposes of logins. \n",
    "\n",
    "3) It is interesting that the month when the account was created plays a rather important role in both methods. For some reasons, users who created their accounts in April and May have the lowest fractions of adopted users among them. At the same time, the number of accounts appeared in May is the largest.\n",
    "\n",
    "4) The binary feature that tells us whether a given user was invited to join another user's personal workspace or not, plays the highest role among the features related to the source of account creation. The users who were invited to join another user are least likely to become adopted users.\n",
    "\n",
    "5) Finally, one more important feature in both methods is whether the account was created in 2014 or not. 2014 is the latest year, and it is important to pay closer attention to other possibly relevant datasets related to this year. "
   ]
  },
  {
   "cell_type": "code",
   "execution_count": null,
   "metadata": {
    "collapsed": true
   },
   "outputs": [],
   "source": []
  }
 ],
 "metadata": {
  "kernelspec": {
   "display_name": "Python 3",
   "language": "python",
   "name": "python3"
  },
  "language_info": {
   "codemirror_mode": {
    "name": "ipython",
    "version": 3
   },
   "file_extension": ".py",
   "mimetype": "text/x-python",
   "name": "python",
   "nbconvert_exporter": "python",
   "pygments_lexer": "ipython3",
   "version": "3.6.0"
  }
 },
 "nbformat": 4,
 "nbformat_minor": 2
}
