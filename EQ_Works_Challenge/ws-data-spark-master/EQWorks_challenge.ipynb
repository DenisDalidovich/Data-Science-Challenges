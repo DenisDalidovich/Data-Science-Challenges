{
 "cells": [
  {
   "cell_type": "markdown",
   "metadata": {},
   "source": [
    "# EQWorks challenge"
   ]
  },
  {
   "cell_type": "markdown",
   "metadata": {},
   "source": [
    "We first read-off the files from Github repository. We will use the raw data. The DataSample.csv file contains 22015 rows while POIList.csv only 4."
   ]
  },
  {
   "cell_type": "code",
   "execution_count": 1,
   "metadata": {
    "collapsed": true
   },
   "outputs": [],
   "source": [
    "import pandas as pd"
   ]
  },
  {
   "cell_type": "code",
   "execution_count": 2,
   "metadata": {
    "collapsed": false
   },
   "outputs": [],
   "source": [
    "url1 = \"https://raw.githubusercontent.com/EQWorks/ws-data-spark/master/data/DataSample.csv\"\n",
    "\n",
    "df_DataSample = pd.read_csv(url1, parse_dates = True)"
   ]
  },
  {
   "cell_type": "code",
   "execution_count": 3,
   "metadata": {
    "collapsed": false
   },
   "outputs": [
    {
     "data": {
      "text/html": [
       "<div>\n",
       "<style scoped>\n",
       "    .dataframe tbody tr th:only-of-type {\n",
       "        vertical-align: middle;\n",
       "    }\n",
       "\n",
       "    .dataframe tbody tr th {\n",
       "        vertical-align: top;\n",
       "    }\n",
       "\n",
       "    .dataframe thead th {\n",
       "        text-align: right;\n",
       "    }\n",
       "</style>\n",
       "<table border=\"1\" class=\"dataframe\">\n",
       "  <thead>\n",
       "    <tr style=\"text-align: right;\">\n",
       "      <th></th>\n",
       "      <th>_ID</th>\n",
       "      <th>TimeSt</th>\n",
       "      <th>Country</th>\n",
       "      <th>Province</th>\n",
       "      <th>City</th>\n",
       "      <th>Latitude</th>\n",
       "      <th>Longitude</th>\n",
       "    </tr>\n",
       "  </thead>\n",
       "  <tbody>\n",
       "    <tr>\n",
       "      <th>0</th>\n",
       "      <td>4516516</td>\n",
       "      <td>2017-06-21 00:00:00.143</td>\n",
       "      <td>CA</td>\n",
       "      <td>ON</td>\n",
       "      <td>Waterloo</td>\n",
       "      <td>43.49347</td>\n",
       "      <td>-80.49123</td>\n",
       "    </tr>\n",
       "    <tr>\n",
       "      <th>1</th>\n",
       "      <td>4516547</td>\n",
       "      <td>2017-06-21 18:00:00.193</td>\n",
       "      <td>CA</td>\n",
       "      <td>ON</td>\n",
       "      <td>London</td>\n",
       "      <td>42.93990</td>\n",
       "      <td>-81.27090</td>\n",
       "    </tr>\n",
       "    <tr>\n",
       "      <th>2</th>\n",
       "      <td>4516550</td>\n",
       "      <td>2017-06-21 15:00:00.287</td>\n",
       "      <td>CA</td>\n",
       "      <td>ON</td>\n",
       "      <td>Guelph</td>\n",
       "      <td>43.57760</td>\n",
       "      <td>-80.22010</td>\n",
       "    </tr>\n",
       "    <tr>\n",
       "      <th>3</th>\n",
       "      <td>4516600</td>\n",
       "      <td>2017-06-21 15:00:00.307</td>\n",
       "      <td>CA</td>\n",
       "      <td>ON</td>\n",
       "      <td>Stratford</td>\n",
       "      <td>43.37160</td>\n",
       "      <td>-80.97730</td>\n",
       "    </tr>\n",
       "    <tr>\n",
       "      <th>4</th>\n",
       "      <td>4516613</td>\n",
       "      <td>2017-06-21 15:00:00.497</td>\n",
       "      <td>CA</td>\n",
       "      <td>ON</td>\n",
       "      <td>Stratford</td>\n",
       "      <td>43.37160</td>\n",
       "      <td>-80.97730</td>\n",
       "    </tr>\n",
       "    <tr>\n",
       "      <th>5</th>\n",
       "      <td>4516693</td>\n",
       "      <td>2017-06-21 14:00:00.597</td>\n",
       "      <td>CA</td>\n",
       "      <td>ON</td>\n",
       "      <td>Kitchener</td>\n",
       "      <td>43.43810</td>\n",
       "      <td>-80.50990</td>\n",
       "    </tr>\n",
       "    <tr>\n",
       "      <th>6</th>\n",
       "      <td>4516771</td>\n",
       "      <td>2017-06-21 10:00:00.873</td>\n",
       "      <td>CA</td>\n",
       "      <td>ON</td>\n",
       "      <td>Sarnia</td>\n",
       "      <td>42.96100</td>\n",
       "      <td>-82.37300</td>\n",
       "    </tr>\n",
       "    <tr>\n",
       "      <th>7</th>\n",
       "      <td>4516831</td>\n",
       "      <td>2017-06-21 12:00:00.950</td>\n",
       "      <td>CA</td>\n",
       "      <td>ON</td>\n",
       "      <td>London</td>\n",
       "      <td>43.00910</td>\n",
       "      <td>-81.17650</td>\n",
       "    </tr>\n",
       "    <tr>\n",
       "      <th>8</th>\n",
       "      <td>4516915</td>\n",
       "      <td>2017-06-21 15:00:01.310</td>\n",
       "      <td>CA</td>\n",
       "      <td>ON</td>\n",
       "      <td>London</td>\n",
       "      <td>43.00910</td>\n",
       "      <td>-81.17650</td>\n",
       "    </tr>\n",
       "    <tr>\n",
       "      <th>9</th>\n",
       "      <td>4516953</td>\n",
       "      <td>2017-06-21 16:00:01.700</td>\n",
       "      <td>CA</td>\n",
       "      <td>ON</td>\n",
       "      <td>Kitchener</td>\n",
       "      <td>43.42780</td>\n",
       "      <td>-80.51350</td>\n",
       "    </tr>\n",
       "  </tbody>\n",
       "</table>\n",
       "</div>"
      ],
      "text/plain": [
       "       _ID                   TimeSt Country Province       City  Latitude  \\\n",
       "0  4516516  2017-06-21 00:00:00.143      CA       ON   Waterloo  43.49347   \n",
       "1  4516547  2017-06-21 18:00:00.193      CA       ON     London  42.93990   \n",
       "2  4516550  2017-06-21 15:00:00.287      CA       ON     Guelph  43.57760   \n",
       "3  4516600  2017-06-21 15:00:00.307      CA       ON  Stratford  43.37160   \n",
       "4  4516613  2017-06-21 15:00:00.497      CA       ON  Stratford  43.37160   \n",
       "5  4516693  2017-06-21 14:00:00.597      CA       ON  Kitchener  43.43810   \n",
       "6  4516771  2017-06-21 10:00:00.873      CA       ON     Sarnia  42.96100   \n",
       "7  4516831  2017-06-21 12:00:00.950      CA       ON     London  43.00910   \n",
       "8  4516915  2017-06-21 15:00:01.310      CA       ON     London  43.00910   \n",
       "9  4516953  2017-06-21 16:00:01.700      CA       ON  Kitchener  43.42780   \n",
       "\n",
       "   Longitude  \n",
       "0  -80.49123  \n",
       "1  -81.27090  \n",
       "2  -80.22010  \n",
       "3  -80.97730  \n",
       "4  -80.97730  \n",
       "5  -80.50990  \n",
       "6  -82.37300  \n",
       "7  -81.17650  \n",
       "8  -81.17650  \n",
       "9  -80.51350  "
      ]
     },
     "execution_count": 3,
     "metadata": {},
     "output_type": "execute_result"
    }
   ],
   "source": [
    "df_DataSample.head(10)"
   ]
  },
  {
   "cell_type": "code",
   "execution_count": 4,
   "metadata": {
    "collapsed": false
   },
   "outputs": [
    {
     "data": {
      "text/plain": [
       "22025"
      ]
     },
     "execution_count": 4,
     "metadata": {},
     "output_type": "execute_result"
    }
   ],
   "source": [
    "len(df_DataSample.index)"
   ]
  },
  {
   "cell_type": "code",
   "execution_count": 5,
   "metadata": {
    "collapsed": true
   },
   "outputs": [],
   "source": [
    "url2 = \"https://raw.githubusercontent.com/EQWorks/ws-data-spark/master/data/POIList.csv\"\n",
    "\n",
    "df_POIList = pd.read_csv(url2, parse_dates = True)"
   ]
  },
  {
   "cell_type": "code",
   "execution_count": 6,
   "metadata": {
    "collapsed": false
   },
   "outputs": [
    {
     "data": {
      "text/html": [
       "<div>\n",
       "<style scoped>\n",
       "    .dataframe tbody tr th:only-of-type {\n",
       "        vertical-align: middle;\n",
       "    }\n",
       "\n",
       "    .dataframe tbody tr th {\n",
       "        vertical-align: top;\n",
       "    }\n",
       "\n",
       "    .dataframe thead th {\n",
       "        text-align: right;\n",
       "    }\n",
       "</style>\n",
       "<table border=\"1\" class=\"dataframe\">\n",
       "  <thead>\n",
       "    <tr style=\"text-align: right;\">\n",
       "      <th></th>\n",
       "      <th>POIID</th>\n",
       "      <th>Latitude</th>\n",
       "      <th>Longitude</th>\n",
       "    </tr>\n",
       "  </thead>\n",
       "  <tbody>\n",
       "    <tr>\n",
       "      <th>0</th>\n",
       "      <td>POI1</td>\n",
       "      <td>53.546167</td>\n",
       "      <td>-113.485734</td>\n",
       "    </tr>\n",
       "    <tr>\n",
       "      <th>1</th>\n",
       "      <td>POI2</td>\n",
       "      <td>53.546167</td>\n",
       "      <td>-113.485734</td>\n",
       "    </tr>\n",
       "    <tr>\n",
       "      <th>2</th>\n",
       "      <td>POI3</td>\n",
       "      <td>45.521629</td>\n",
       "      <td>-73.566024</td>\n",
       "    </tr>\n",
       "    <tr>\n",
       "      <th>3</th>\n",
       "      <td>POI4</td>\n",
       "      <td>45.224830</td>\n",
       "      <td>-63.232729</td>\n",
       "    </tr>\n",
       "  </tbody>\n",
       "</table>\n",
       "</div>"
      ],
      "text/plain": [
       "  POIID   Latitude   Longitude\n",
       "0  POI1  53.546167 -113.485734\n",
       "1  POI2  53.546167 -113.485734\n",
       "2  POI3  45.521629  -73.566024\n",
       "3  POI4  45.224830  -63.232729"
      ]
     },
     "execution_count": 6,
     "metadata": {},
     "output_type": "execute_result"
    }
   ],
   "source": [
    "df_POIList.head()"
   ]
  },
  {
   "cell_type": "markdown",
   "metadata": {},
   "source": [
    "## Part 0: Cleaning "
   ]
  },
  {
   "cell_type": "markdown",
   "metadata": {},
   "source": [
    "Let's first look at the duplicated rows that have have identical geoinfo and timest entries; these rows are deemed suspicious. Analysis shows that there are 2026 such rows."
   ]
  },
  {
   "cell_type": "code",
   "execution_count": 7,
   "metadata": {
    "collapsed": false
   },
   "outputs": [
    {
     "data": {
      "text/plain": [
       "Index(['_ID', ' TimeSt', 'Country', 'Province', 'City', 'Latitude',\n",
       "       'Longitude'],\n",
       "      dtype='object')"
      ]
     },
     "execution_count": 7,
     "metadata": {},
     "output_type": "execute_result"
    }
   ],
   "source": [
    "df_DataSample.columns"
   ]
  },
  {
   "cell_type": "code",
   "execution_count": 8,
   "metadata": {
    "collapsed": false,
    "scrolled": true
   },
   "outputs": [
    {
     "data": {
      "text/html": [
       "<div>\n",
       "<style scoped>\n",
       "    .dataframe tbody tr th:only-of-type {\n",
       "        vertical-align: middle;\n",
       "    }\n",
       "\n",
       "    .dataframe tbody tr th {\n",
       "        vertical-align: top;\n",
       "    }\n",
       "\n",
       "    .dataframe thead th {\n",
       "        text-align: right;\n",
       "    }\n",
       "</style>\n",
       "<table border=\"1\" class=\"dataframe\">\n",
       "  <thead>\n",
       "    <tr style=\"text-align: right;\">\n",
       "      <th></th>\n",
       "      <th>_ID</th>\n",
       "      <th>TimeSt</th>\n",
       "      <th>Country</th>\n",
       "      <th>Province</th>\n",
       "      <th>City</th>\n",
       "      <th>Latitude</th>\n",
       "      <th>Longitude</th>\n",
       "    </tr>\n",
       "  </thead>\n",
       "  <tbody>\n",
       "    <tr>\n",
       "      <th>12</th>\n",
       "      <td>4517047</td>\n",
       "      <td>2017-06-21 12:00:00.950</td>\n",
       "      <td>CA</td>\n",
       "      <td>ON</td>\n",
       "      <td>London</td>\n",
       "      <td>43.00910</td>\n",
       "      <td>-81.17650</td>\n",
       "    </tr>\n",
       "    <tr>\n",
       "      <th>19</th>\n",
       "      <td>4517347</td>\n",
       "      <td>2017-06-21 03:00:00.287</td>\n",
       "      <td>CA</td>\n",
       "      <td>ON</td>\n",
       "      <td>Windsor</td>\n",
       "      <td>42.29570</td>\n",
       "      <td>-82.95990</td>\n",
       "    </tr>\n",
       "    <tr>\n",
       "      <th>37</th>\n",
       "      <td>4518179</td>\n",
       "      <td>2017-06-21 08:00:00.663</td>\n",
       "      <td>CA</td>\n",
       "      <td>ON</td>\n",
       "      <td>Kitchener</td>\n",
       "      <td>43.46760</td>\n",
       "      <td>-80.48470</td>\n",
       "    </tr>\n",
       "    <tr>\n",
       "      <th>56</th>\n",
       "      <td>4519066</td>\n",
       "      <td>2017-06-21 07:00:00.747</td>\n",
       "      <td>CA</td>\n",
       "      <td>ON</td>\n",
       "      <td>Tillsonburg</td>\n",
       "      <td>42.86185</td>\n",
       "      <td>-80.72991</td>\n",
       "    </tr>\n",
       "    <tr>\n",
       "      <th>77</th>\n",
       "      <td>4520202</td>\n",
       "      <td>2017-06-21 17:00:02.433</td>\n",
       "      <td>CA</td>\n",
       "      <td>ON</td>\n",
       "      <td>Windsor</td>\n",
       "      <td>42.26540</td>\n",
       "      <td>-83.02610</td>\n",
       "    </tr>\n",
       "    <tr>\n",
       "      <th>83</th>\n",
       "      <td>4520494</td>\n",
       "      <td>2017-06-21 22:00:03.637</td>\n",
       "      <td>CA</td>\n",
       "      <td>ON</td>\n",
       "      <td>Windsor</td>\n",
       "      <td>42.26540</td>\n",
       "      <td>-83.02610</td>\n",
       "    </tr>\n",
       "    <tr>\n",
       "      <th>94</th>\n",
       "      <td>4521232</td>\n",
       "      <td>2017-06-21 18:00:06.077</td>\n",
       "      <td>CA</td>\n",
       "      <td>ON</td>\n",
       "      <td>Windsor</td>\n",
       "      <td>42.25450</td>\n",
       "      <td>-82.98090</td>\n",
       "    </tr>\n",
       "    <tr>\n",
       "      <th>111</th>\n",
       "      <td>4522138</td>\n",
       "      <td>2017-06-21 14:00:03.750</td>\n",
       "      <td>CA</td>\n",
       "      <td>ON</td>\n",
       "      <td>Guelph</td>\n",
       "      <td>43.57760</td>\n",
       "      <td>-80.22010</td>\n",
       "    </tr>\n",
       "    <tr>\n",
       "      <th>141</th>\n",
       "      <td>4523685</td>\n",
       "      <td>2017-06-21 20:00:04.430</td>\n",
       "      <td>CA</td>\n",
       "      <td>ON</td>\n",
       "      <td>London</td>\n",
       "      <td>43.00610</td>\n",
       "      <td>-81.29620</td>\n",
       "    </tr>\n",
       "    <tr>\n",
       "      <th>177</th>\n",
       "      <td>4525348</td>\n",
       "      <td>2017-06-21 01:00:07.037</td>\n",
       "      <td>CA</td>\n",
       "      <td>ON</td>\n",
       "      <td>Kitchener</td>\n",
       "      <td>43.46310</td>\n",
       "      <td>-80.44930</td>\n",
       "    </tr>\n",
       "  </tbody>\n",
       "</table>\n",
       "</div>"
      ],
      "text/plain": [
       "         _ID                   TimeSt Country Province         City  Latitude  \\\n",
       "12   4517047  2017-06-21 12:00:00.950      CA       ON       London  43.00910   \n",
       "19   4517347  2017-06-21 03:00:00.287      CA       ON      Windsor  42.29570   \n",
       "37   4518179  2017-06-21 08:00:00.663      CA       ON    Kitchener  43.46760   \n",
       "56   4519066  2017-06-21 07:00:00.747      CA       ON  Tillsonburg  42.86185   \n",
       "77   4520202  2017-06-21 17:00:02.433      CA       ON      Windsor  42.26540   \n",
       "83   4520494  2017-06-21 22:00:03.637      CA       ON      Windsor  42.26540   \n",
       "94   4521232  2017-06-21 18:00:06.077      CA       ON      Windsor  42.25450   \n",
       "111  4522138  2017-06-21 14:00:03.750      CA       ON       Guelph  43.57760   \n",
       "141  4523685  2017-06-21 20:00:04.430      CA       ON       London  43.00610   \n",
       "177  4525348  2017-06-21 01:00:07.037      CA       ON    Kitchener  43.46310   \n",
       "\n",
       "     Longitude  \n",
       "12   -81.17650  \n",
       "19   -82.95990  \n",
       "37   -80.48470  \n",
       "56   -80.72991  \n",
       "77   -83.02610  \n",
       "83   -83.02610  \n",
       "94   -82.98090  \n",
       "111  -80.22010  \n",
       "141  -81.29620  \n",
       "177  -80.44930  "
      ]
     },
     "execution_count": 8,
     "metadata": {},
     "output_type": "execute_result"
    }
   ],
   "source": [
    "df_DataSample[df_DataSample.duplicated(subset=[' TimeSt','Latitude', 'Longitude'], keep='first')].\\\n",
    "head(10)"
   ]
  },
  {
   "cell_type": "code",
   "execution_count": 9,
   "metadata": {
    "collapsed": false
   },
   "outputs": [
    {
     "data": {
      "text/plain": [
       "2026"
      ]
     },
     "execution_count": 9,
     "metadata": {},
     "output_type": "execute_result"
    }
   ],
   "source": [
    "len(df_DataSample[df_DataSample.duplicated(subset=[' TimeSt','Latitude', 'Longitude'], \n",
    "                                           keep='first')].index)"
   ]
  },
  {
   "cell_type": "markdown",
   "metadata": {},
   "source": [
    "We then for convenience remove spaces and underscores from the names of the columns at the beginning of each name."
   ]
  },
  {
   "cell_type": "code",
   "execution_count": 10,
   "metadata": {
    "collapsed": false
   },
   "outputs": [
    {
     "data": {
      "text/plain": [
       "Index(['ID', 'TimeSt', 'Country', 'Province', 'City', 'Latitude', 'Longitude'], dtype='object')"
      ]
     },
     "execution_count": 10,
     "metadata": {},
     "output_type": "execute_result"
    }
   ],
   "source": [
    "df_DataSample.rename(columns=lambda x: x.lstrip().lstrip('_'), inplace=True)\n",
    "\n",
    "df_DataSample.columns"
   ]
  },
  {
   "cell_type": "markdown",
   "metadata": {},
   "source": [
    "Let's remove these duplicate rows inplace and reset index afterwards. We are now down to 19999 rows."
   ]
  },
  {
   "cell_type": "code",
   "execution_count": 11,
   "metadata": {
    "collapsed": true
   },
   "outputs": [],
   "source": [
    "df_DataSample.drop_duplicates(subset=['TimeSt','Latitude', 'Longitude'], \n",
    "                                           keep='first', inplace = True)\n",
    "\n",
    "df_DataSample.reset_index(drop = True, inplace = True)"
   ]
  },
  {
   "cell_type": "code",
   "execution_count": 12,
   "metadata": {
    "collapsed": false
   },
   "outputs": [
    {
     "data": {
      "text/plain": [
       "19999"
      ]
     },
     "execution_count": 12,
     "metadata": {},
     "output_type": "execute_result"
    }
   ],
   "source": [
    "len(df_DataSample.index)"
   ]
  },
  {
   "cell_type": "markdown",
   "metadata": {},
   "source": [
    "We also see that there are duplicate rows in the POIList.csv file. We remove one of the rows there as well. But before doing this we also remove space in the ' Latitude' name."
   ]
  },
  {
   "cell_type": "code",
   "execution_count": 13,
   "metadata": {
    "collapsed": false
   },
   "outputs": [
    {
     "data": {
      "text/plain": [
       "Index(['POIID', ' Latitude', 'Longitude'], dtype='object')"
      ]
     },
     "execution_count": 13,
     "metadata": {},
     "output_type": "execute_result"
    }
   ],
   "source": [
    "df_POIList.columns"
   ]
  },
  {
   "cell_type": "code",
   "execution_count": 14,
   "metadata": {
    "collapsed": false
   },
   "outputs": [
    {
     "data": {
      "text/plain": [
       "Index(['POIID', 'Latitude', 'Longitude'], dtype='object')"
      ]
     },
     "execution_count": 14,
     "metadata": {},
     "output_type": "execute_result"
    }
   ],
   "source": [
    "df_POIList.rename(columns=lambda x: x.lstrip(), inplace=True)\n",
    "\n",
    "df_POIList.columns"
   ]
  },
  {
   "cell_type": "code",
   "execution_count": 15,
   "metadata": {
    "collapsed": false
   },
   "outputs": [],
   "source": [
    "df_POIList.drop_duplicates(subset=['Latitude', 'Longitude'], \n",
    "                                           keep='first', inplace = True)\n",
    "\n",
    "df_POIList.reset_index(drop = True, inplace = True)"
   ]
  },
  {
   "cell_type": "code",
   "execution_count": 16,
   "metadata": {
    "collapsed": false
   },
   "outputs": [
    {
     "data": {
      "text/html": [
       "<div>\n",
       "<style scoped>\n",
       "    .dataframe tbody tr th:only-of-type {\n",
       "        vertical-align: middle;\n",
       "    }\n",
       "\n",
       "    .dataframe tbody tr th {\n",
       "        vertical-align: top;\n",
       "    }\n",
       "\n",
       "    .dataframe thead th {\n",
       "        text-align: right;\n",
       "    }\n",
       "</style>\n",
       "<table border=\"1\" class=\"dataframe\">\n",
       "  <thead>\n",
       "    <tr style=\"text-align: right;\">\n",
       "      <th></th>\n",
       "      <th>POIID</th>\n",
       "      <th>Latitude</th>\n",
       "      <th>Longitude</th>\n",
       "    </tr>\n",
       "  </thead>\n",
       "  <tbody>\n",
       "    <tr>\n",
       "      <th>0</th>\n",
       "      <td>POI1</td>\n",
       "      <td>53.546167</td>\n",
       "      <td>-113.485734</td>\n",
       "    </tr>\n",
       "    <tr>\n",
       "      <th>1</th>\n",
       "      <td>POI3</td>\n",
       "      <td>45.521629</td>\n",
       "      <td>-73.566024</td>\n",
       "    </tr>\n",
       "    <tr>\n",
       "      <th>2</th>\n",
       "      <td>POI4</td>\n",
       "      <td>45.224830</td>\n",
       "      <td>-63.232729</td>\n",
       "    </tr>\n",
       "  </tbody>\n",
       "</table>\n",
       "</div>"
      ],
      "text/plain": [
       "  POIID   Latitude   Longitude\n",
       "0  POI1  53.546167 -113.485734\n",
       "1  POI3  45.521629  -73.566024\n",
       "2  POI4  45.224830  -63.232729"
      ]
     },
     "execution_count": 16,
     "metadata": {},
     "output_type": "execute_result"
    }
   ],
   "source": [
    "df_POIList.head()"
   ]
  },
  {
   "cell_type": "markdown",
   "metadata": {},
   "source": [
    "## Part 1: Label "
   ]
  },
  {
   "cell_type": "markdown",
   "metadata": {},
   "source": [
    "Let's assign each request to one of the POI locations that has a minimum distance to the request location. We will be using Pythagorean distance only for simplicity, which of course does not have much to do with reality. We in fact assume that we work on the plane map of the world. One should use Haversine or Vincenty distance and make plots on a sphere. "
   ]
  },
  {
   "cell_type": "code",
   "execution_count": 17,
   "metadata": {
    "collapsed": true
   },
   "outputs": [],
   "source": [
    "import numpy as np"
   ]
  },
  {
   "cell_type": "code",
   "execution_count": 18,
   "metadata": {
    "collapsed": true
   },
   "outputs": [],
   "source": [
    "def euclidean2D(x1, x2, y1, y2):\n",
    "    return np.sqrt((x2 - x1)**2 + (y2 - y1)**2)\n",
    "\n",
    "def euclfunc(df_DataSample):\n",
    "    \n",
    "    auxlist= []\n",
    "    \n",
    "    for i in list(df_POIList.index):\n",
    "        auxlist.append(euclidean2D(df_DataSample.Latitude, df_POIList.Latitude[i],\n",
    "                      df_DataSample.Longitude, df_POIList.Longitude[i]))\n",
    "    \n",
    "    k = np.argmin(auxlist)\n",
    "    \n",
    "    return df_POIList.POIID[k], auxlist[k]\n"
   ]
  },
  {
   "cell_type": "code",
   "execution_count": 19,
   "metadata": {
    "collapsed": false
   },
   "outputs": [],
   "source": [
    "df_DataSample['Nearest_POIID'], df_DataSample['Distance']\\\n",
    "        = zip(*df_DataSample.apply(euclfunc, axis = 1))"
   ]
  },
  {
   "cell_type": "code",
   "execution_count": 20,
   "metadata": {
    "collapsed": false
   },
   "outputs": [
    {
     "data": {
      "text/html": [
       "<div>\n",
       "<style scoped>\n",
       "    .dataframe tbody tr th:only-of-type {\n",
       "        vertical-align: middle;\n",
       "    }\n",
       "\n",
       "    .dataframe tbody tr th {\n",
       "        vertical-align: top;\n",
       "    }\n",
       "\n",
       "    .dataframe thead th {\n",
       "        text-align: right;\n",
       "    }\n",
       "</style>\n",
       "<table border=\"1\" class=\"dataframe\">\n",
       "  <thead>\n",
       "    <tr style=\"text-align: right;\">\n",
       "      <th></th>\n",
       "      <th>ID</th>\n",
       "      <th>TimeSt</th>\n",
       "      <th>Country</th>\n",
       "      <th>Province</th>\n",
       "      <th>City</th>\n",
       "      <th>Latitude</th>\n",
       "      <th>Longitude</th>\n",
       "      <th>Nearest_POIID</th>\n",
       "      <th>Distance</th>\n",
       "    </tr>\n",
       "  </thead>\n",
       "  <tbody>\n",
       "    <tr>\n",
       "      <th>0</th>\n",
       "      <td>4516516</td>\n",
       "      <td>2017-06-21 00:00:00.143</td>\n",
       "      <td>CA</td>\n",
       "      <td>ON</td>\n",
       "      <td>Waterloo</td>\n",
       "      <td>43.49347</td>\n",
       "      <td>-80.49123</td>\n",
       "      <td>POI3</td>\n",
       "      <td>7.216087</td>\n",
       "    </tr>\n",
       "    <tr>\n",
       "      <th>1</th>\n",
       "      <td>4516547</td>\n",
       "      <td>2017-06-21 18:00:00.193</td>\n",
       "      <td>CA</td>\n",
       "      <td>ON</td>\n",
       "      <td>London</td>\n",
       "      <td>42.93990</td>\n",
       "      <td>-81.27090</td>\n",
       "      <td>POI3</td>\n",
       "      <td>8.125912</td>\n",
       "    </tr>\n",
       "    <tr>\n",
       "      <th>2</th>\n",
       "      <td>4516550</td>\n",
       "      <td>2017-06-21 15:00:00.287</td>\n",
       "      <td>CA</td>\n",
       "      <td>ON</td>\n",
       "      <td>Guelph</td>\n",
       "      <td>43.57760</td>\n",
       "      <td>-80.22010</td>\n",
       "      <td>POI3</td>\n",
       "      <td>6.932242</td>\n",
       "    </tr>\n",
       "    <tr>\n",
       "      <th>3</th>\n",
       "      <td>4516600</td>\n",
       "      <td>2017-06-21 15:00:00.307</td>\n",
       "      <td>CA</td>\n",
       "      <td>ON</td>\n",
       "      <td>Stratford</td>\n",
       "      <td>43.37160</td>\n",
       "      <td>-80.97730</td>\n",
       "      <td>POI3</td>\n",
       "      <td>7.716841</td>\n",
       "    </tr>\n",
       "    <tr>\n",
       "      <th>4</th>\n",
       "      <td>4516613</td>\n",
       "      <td>2017-06-21 15:00:00.497</td>\n",
       "      <td>CA</td>\n",
       "      <td>ON</td>\n",
       "      <td>Stratford</td>\n",
       "      <td>43.37160</td>\n",
       "      <td>-80.97730</td>\n",
       "      <td>POI3</td>\n",
       "      <td>7.716841</td>\n",
       "    </tr>\n",
       "    <tr>\n",
       "      <th>5</th>\n",
       "      <td>4516693</td>\n",
       "      <td>2017-06-21 14:00:00.597</td>\n",
       "      <td>CA</td>\n",
       "      <td>ON</td>\n",
       "      <td>Kitchener</td>\n",
       "      <td>43.43810</td>\n",
       "      <td>-80.50990</td>\n",
       "      <td>POI3</td>\n",
       "      <td>7.249725</td>\n",
       "    </tr>\n",
       "    <tr>\n",
       "      <th>6</th>\n",
       "      <td>4516771</td>\n",
       "      <td>2017-06-21 10:00:00.873</td>\n",
       "      <td>CA</td>\n",
       "      <td>ON</td>\n",
       "      <td>Sarnia</td>\n",
       "      <td>42.96100</td>\n",
       "      <td>-82.37300</td>\n",
       "      <td>POI3</td>\n",
       "      <td>9.171676</td>\n",
       "    </tr>\n",
       "    <tr>\n",
       "      <th>7</th>\n",
       "      <td>4516831</td>\n",
       "      <td>2017-06-21 12:00:00.950</td>\n",
       "      <td>CA</td>\n",
       "      <td>ON</td>\n",
       "      <td>London</td>\n",
       "      <td>43.00910</td>\n",
       "      <td>-81.17650</td>\n",
       "      <td>POI3</td>\n",
       "      <td>8.014496</td>\n",
       "    </tr>\n",
       "    <tr>\n",
       "      <th>8</th>\n",
       "      <td>4516915</td>\n",
       "      <td>2017-06-21 15:00:01.310</td>\n",
       "      <td>CA</td>\n",
       "      <td>ON</td>\n",
       "      <td>London</td>\n",
       "      <td>43.00910</td>\n",
       "      <td>-81.17650</td>\n",
       "      <td>POI3</td>\n",
       "      <td>8.014496</td>\n",
       "    </tr>\n",
       "    <tr>\n",
       "      <th>9</th>\n",
       "      <td>4516953</td>\n",
       "      <td>2017-06-21 16:00:01.700</td>\n",
       "      <td>CA</td>\n",
       "      <td>ON</td>\n",
       "      <td>Kitchener</td>\n",
       "      <td>43.42780</td>\n",
       "      <td>-80.51350</td>\n",
       "      <td>POI3</td>\n",
       "      <td>7.256138</td>\n",
       "    </tr>\n",
       "  </tbody>\n",
       "</table>\n",
       "</div>"
      ],
      "text/plain": [
       "        ID                   TimeSt Country Province       City  Latitude  \\\n",
       "0  4516516  2017-06-21 00:00:00.143      CA       ON   Waterloo  43.49347   \n",
       "1  4516547  2017-06-21 18:00:00.193      CA       ON     London  42.93990   \n",
       "2  4516550  2017-06-21 15:00:00.287      CA       ON     Guelph  43.57760   \n",
       "3  4516600  2017-06-21 15:00:00.307      CA       ON  Stratford  43.37160   \n",
       "4  4516613  2017-06-21 15:00:00.497      CA       ON  Stratford  43.37160   \n",
       "5  4516693  2017-06-21 14:00:00.597      CA       ON  Kitchener  43.43810   \n",
       "6  4516771  2017-06-21 10:00:00.873      CA       ON     Sarnia  42.96100   \n",
       "7  4516831  2017-06-21 12:00:00.950      CA       ON     London  43.00910   \n",
       "8  4516915  2017-06-21 15:00:01.310      CA       ON     London  43.00910   \n",
       "9  4516953  2017-06-21 16:00:01.700      CA       ON  Kitchener  43.42780   \n",
       "\n",
       "   Longitude Nearest_POIID  Distance  \n",
       "0  -80.49123          POI3  7.216087  \n",
       "1  -81.27090          POI3  8.125912  \n",
       "2  -80.22010          POI3  6.932242  \n",
       "3  -80.97730          POI3  7.716841  \n",
       "4  -80.97730          POI3  7.716841  \n",
       "5  -80.50990          POI3  7.249725  \n",
       "6  -82.37300          POI3  9.171676  \n",
       "7  -81.17650          POI3  8.014496  \n",
       "8  -81.17650          POI3  8.014496  \n",
       "9  -80.51350          POI3  7.256138  "
      ]
     },
     "execution_count": 20,
     "metadata": {},
     "output_type": "execute_result"
    }
   ],
   "source": [
    "df_DataSample.head(10)"
   ]
  },
  {
   "cell_type": "markdown",
   "metadata": {},
   "source": [
    "Let's print the maximum and minimum values of the longitude and latitude."
   ]
  },
  {
   "cell_type": "code",
   "execution_count": 21,
   "metadata": {
    "collapsed": false
   },
   "outputs": [
    {
     "name": "stdout",
     "output_type": "stream",
     "text": [
      "The maximum value of latitude is: 62.8273\n",
      "The minimum value of latitude is: 6.92742\n",
      "The maximum value of longitude is: 125.7022\n",
      "The minimum value of longitude is: -136.53957\n"
     ]
    }
   ],
   "source": [
    "print('The maximum value of latitude is:', np.max(df_DataSample.Latitude))\n",
    "print('The minimum value of latitude is:', np.min(df_DataSample.Latitude))\n",
    "print('The maximum value of longitude is:', np.max(df_DataSample.Longitude))\n",
    "print('The minimum value of longitude is:', np.min(df_DataSample.Longitude))"
   ]
  },
  {
   "cell_type": "markdown",
   "metadata": {},
   "source": [
    "We see that there are some suspicious data that involve the positive longitudes. There are 22 such entries, and these data seem extreme and suspicious. Let's remove them. "
   ]
  },
  {
   "cell_type": "code",
   "execution_count": 22,
   "metadata": {
    "collapsed": false
   },
   "outputs": [
    {
     "data": {
      "text/plain": [
       "22"
      ]
     },
     "execution_count": 22,
     "metadata": {},
     "output_type": "execute_result"
    }
   ],
   "source": [
    "len(df_DataSample[df_DataSample.Longitude > 0])"
   ]
  },
  {
   "cell_type": "code",
   "execution_count": 23,
   "metadata": {
    "collapsed": true
   },
   "outputs": [],
   "source": [
    "df_DataSample = df_DataSample[df_DataSample.Longitude < 0]\n",
    "\n",
    "df_DataSample.reset_index(drop = True, inplace = True)"
   ]
  },
  {
   "cell_type": "markdown",
   "metadata": {},
   "source": [
    "Let's now print the maximal and minimal values of the latitude and longitude once again. Now, the data seem much more reasonable."
   ]
  },
  {
   "cell_type": "code",
   "execution_count": 24,
   "metadata": {
    "collapsed": false
   },
   "outputs": [
    {
     "name": "stdout",
     "output_type": "stream",
     "text": [
      "The maximum value of latitude is: 62.8273\n",
      "The minimum value of latitude is: 42.054\n",
      "The maximum value of longitude is: -52.6566\n",
      "The minimum value of longitude is: -136.53957\n"
     ]
    }
   ],
   "source": [
    "min_lat = np.min(df_DataSample.Latitude)\n",
    "max_lat = np.max(df_DataSample.Latitude)\n",
    "min_lon = np.min(df_DataSample.Longitude)\n",
    "max_lon = np.max(df_DataSample.Longitude)\n",
    "\n",
    "print('The maximum value of latitude is:', max_lat)\n",
    "print('The minimum value of latitude is:', min_lat)\n",
    "print('The maximum value of longitude is:', max_lon)\n",
    "print('The minimum value of longitude is:', min_lon)"
   ]
  },
  {
   "cell_type": "markdown",
   "metadata": {},
   "source": [
    "## Part 2: Analysis"
   ]
  },
  {
   "cell_type": "markdown",
   "metadata": {},
   "source": [
    "For each POI, we calculate the average and standard deviation of distances between a given POI location and each of its assigned requests. We also compute the radius (given by the maximum distance for a given POI) and density (request count/circle area) for each POI location. We create the corresponding four columns and add them to df_POIList dataframe. The map functions with dictionaries will be used for this purpose. The dictionaries dict1, dict2, dict3 and dict4 are for the mean, standard deviation, radius and density respectively."
   ]
  },
  {
   "cell_type": "code",
   "execution_count": 25,
   "metadata": {
    "collapsed": true
   },
   "outputs": [],
   "source": [
    "dict1 = {df_POIList.POIID[k]: np.mean(df_DataSample.Distance[df_DataSample.Nearest_POIID == \\\n",
    "                            df_POIList.POIID[k]]) for k in list(df_POIList.index)}\n",
    "\n",
    "dict2 = {df_POIList.POIID[k]: np.std(df_DataSample.Distance[df_DataSample.Nearest_POIID == \\\n",
    "                            df_POIList.POIID[k]]) for k in list(df_POIList.index)}\n",
    "\n",
    "dict3 = {df_POIList.POIID[k]: np.max(df_DataSample.Distance[df_DataSample.Nearest_POIID == \\\n",
    "                            df_POIList.POIID[k]]) for k in list(df_POIList.index)}\n",
    "\n",
    "dict4 = {df_POIList.POIID[k]: \\\n",
    "         len(df_DataSample.Distance[df_DataSample.Nearest_POIID == df_POIList.POIID[k]])/ \\\n",
    "         (np.pi* (np.max(df_DataSample.Distance[df_DataSample.Nearest_POIID == \\\n",
    "                            df_POIList.POIID[k]])**2))\n",
    "         for k in list(df_POIList.index)}"
   ]
  },
  {
   "cell_type": "code",
   "execution_count": 26,
   "metadata": {
    "collapsed": true
   },
   "outputs": [],
   "source": [
    "df_POIList['Distance_Mean'] = df_POIList.POIID.map(dict1)\n",
    "df_POIList['Distance_Std'] = df_POIList.POIID.map(dict2)\n",
    "df_POIList['Radius'] = df_POIList.POIID.map(dict3)\n",
    "df_POIList['Density'] = df_POIList.POIID.map(dict4)"
   ]
  },
  {
   "cell_type": "code",
   "execution_count": 27,
   "metadata": {
    "collapsed": false,
    "scrolled": true
   },
   "outputs": [
    {
     "data": {
      "text/html": [
       "<div>\n",
       "<style scoped>\n",
       "    .dataframe tbody tr th:only-of-type {\n",
       "        vertical-align: middle;\n",
       "    }\n",
       "\n",
       "    .dataframe tbody tr th {\n",
       "        vertical-align: top;\n",
       "    }\n",
       "\n",
       "    .dataframe thead th {\n",
       "        text-align: right;\n",
       "    }\n",
       "</style>\n",
       "<table border=\"1\" class=\"dataframe\">\n",
       "  <thead>\n",
       "    <tr style=\"text-align: right;\">\n",
       "      <th></th>\n",
       "      <th>POIID</th>\n",
       "      <th>Latitude</th>\n",
       "      <th>Longitude</th>\n",
       "      <th>Distance_Mean</th>\n",
       "      <th>Distance_Std</th>\n",
       "      <th>Radius</th>\n",
       "      <th>Density</th>\n",
       "    </tr>\n",
       "  </thead>\n",
       "  <tbody>\n",
       "    <tr>\n",
       "      <th>0</th>\n",
       "      <td>POI1</td>\n",
       "      <td>53.546167</td>\n",
       "      <td>-113.485734</td>\n",
       "      <td>3.348183</td>\n",
       "      <td>3.858291</td>\n",
       "      <td>24.851937</td>\n",
       "      <td>4.998179</td>\n",
       "    </tr>\n",
       "    <tr>\n",
       "      <th>1</th>\n",
       "      <td>POI3</td>\n",
       "      <td>45.521629</td>\n",
       "      <td>-73.566024</td>\n",
       "      <td>5.537951</td>\n",
       "      <td>2.858544</td>\n",
       "      <td>20.155378</td>\n",
       "      <td>7.692137</td>\n",
       "    </tr>\n",
       "    <tr>\n",
       "      <th>2</th>\n",
       "      <td>POI4</td>\n",
       "      <td>45.224830</td>\n",
       "      <td>-63.232729</td>\n",
       "      <td>2.871912</td>\n",
       "      <td>2.863606</td>\n",
       "      <td>10.821120</td>\n",
       "      <td>1.255879</td>\n",
       "    </tr>\n",
       "  </tbody>\n",
       "</table>\n",
       "</div>"
      ],
      "text/plain": [
       "  POIID   Latitude   Longitude  Distance_Mean  Distance_Std     Radius  \\\n",
       "0  POI1  53.546167 -113.485734       3.348183      3.858291  24.851937   \n",
       "1  POI3  45.521629  -73.566024       5.537951      2.858544  20.155378   \n",
       "2  POI4  45.224830  -63.232729       2.871912      2.863606  10.821120   \n",
       "\n",
       "    Density  \n",
       "0  4.998179  \n",
       "1  7.692137  \n",
       "2  1.255879  "
      ]
     },
     "execution_count": 27,
     "metadata": {},
     "output_type": "execute_result"
    }
   ],
   "source": [
    "df_POIList.head()"
   ]
  },
  {
   "cell_type": "markdown",
   "metadata": {},
   "source": [
    "We now make the scatter plots of requests related to each POI with the circles centered at the coresponding POI locations. "
   ]
  },
  {
   "cell_type": "code",
   "execution_count": 28,
   "metadata": {
    "collapsed": false
   },
   "outputs": [
    {
     "data": {
      "image/png": "[encoded data removed]",
      "text/plain": [
       "<matplotlib.figure.Figure at 0x2c0e985f208>"
      ]
     },
     "metadata": {},
     "output_type": "display_data"
    }
   ],
   "source": [
    "from matplotlib import pyplot as plt\n",
    "\n",
    "\n",
    "plt.figure(figsize=(8,8))\n",
    "ax = plt.gca()\n",
    "\n",
    "plt.scatter(df_DataSample[df_DataSample.Nearest_POIID == 'POI1'].Longitude,\n",
    "df_DataSample[df_DataSample.Nearest_POIID == 'POI1'].Latitude,\n",
    "           color = 'b', marker = '.', label='POI1')\n",
    "\n",
    "plt.scatter(df_DataSample[df_DataSample.Nearest_POIID == 'POI3'].Longitude,\n",
    "df_DataSample[df_DataSample.Nearest_POIID == 'POI3'].Latitude,\n",
    "           color = 'g', marker = '.', label='POI3')\n",
    "\n",
    "plt.scatter(df_DataSample[df_DataSample.Nearest_POIID == 'POI4'].Longitude,\n",
    "df_DataSample[df_DataSample.Nearest_POIID == 'POI4'].Latitude,\n",
    "           color = 'r', marker = '.', label='POI4')\n",
    "\n",
    "plt.ylim((0,90))\n",
    "plt.xlim((-140,-50))\n",
    "\n",
    "circle0 = plt.Circle(\n",
    "( df_POIList[df_POIList.POIID == 'POI1'].Longitude, \n",
    "  df_POIList[df_POIList.POIID == 'POI1'].Latitude ), \n",
    "  df_POIList[df_POIList.POIID == 'POI1'].Radius ,\n",
    "          color = 'b', fill = False )\n",
    "ax.add_artist(circle0)\n",
    "\n",
    "circle1 = plt.Circle(\n",
    "( df_POIList[df_POIList.POIID == 'POI3'].Longitude, \n",
    "  df_POIList[df_POIList.POIID == 'POI3'].Latitude ), \n",
    "  df_POIList[df_POIList.POIID == 'POI3'].Radius ,\n",
    "          color = 'g', fill = False )\n",
    "ax.add_artist(circle1)\n",
    "\n",
    "circle2 = plt.Circle(\n",
    "( df_POIList[df_POIList.POIID == 'POI4'].Longitude, \n",
    "  df_POIList[df_POIList.POIID == 'POI4'].Latitude ), \n",
    "  df_POIList[df_POIList.POIID == 'POI4'].Radius ,\n",
    "          color = 'r', fill = False )\n",
    "ax.add_artist(circle2)\n",
    "\n",
    "\n",
    "plt.xlabel('LONGITUDE', fontsize =15)\n",
    "plt.ylabel('LATITUDE', fontsize =15)\n",
    "plt.legend(fontsize = 14)\n",
    "plt.title('REQUESTS AND CIRCLES CENTERED AT POI', fontsize =16)\n",
    "\n",
    "plt.show()"
   ]
  },
  {
   "cell_type": "markdown",
   "metadata": {},
   "source": [
    "We see that the plot above displays the requests that came from different parts of Canada. Overall, the coverage by dots implicitly reproduces the plane map of Canada. POI3 was likely to receive the requests that came from Ontario, while POI1 from British Columbia and Prairie provinces. POI4 was most likely responsible for requests from Quebec and Atlantic provinces.\n",
    "We also see from below that the number of requests related to POI4 is much smaller than those related to POI1 and POI3. This issue, coupled with the differences in corresponding areas of responsibility, leads to the fact that the densities vary significantly among POI's."
   ]
  },
  {
   "cell_type": "code",
   "execution_count": 29,
   "metadata": {
    "collapsed": false
   },
   "outputs": [
    {
     "name": "stdout",
     "output_type": "stream",
     "text": [
      "The number of requests related to POI1 is: 9698\n",
      "The number of requests related to POI3 is: 9817\n",
      "The number of requests related to POI4 is: 462\n"
     ]
    }
   ],
   "source": [
    "print('The number of requests related to POI1 is:', \n",
    "      len(df_DataSample.Distance[df_DataSample.Nearest_POIID == df_POIList.POIID[0]]))\n",
    "      \n",
    "print('The number of requests related to POI3 is:', \n",
    "      len(df_DataSample.Distance[df_DataSample.Nearest_POIID == df_POIList.POIID[1]]))\n",
    "      \n",
    "print('The number of requests related to POI4 is:', \n",
    "      len(df_DataSample.Distance[df_DataSample.Nearest_POIID == df_POIList.POIID[2]]))"
   ]
  },
  {
   "cell_type": "markdown",
   "metadata": {},
   "source": [
    "## Model: Part 1"
   ]
  },
  {
   "cell_type": "markdown",
   "metadata": {},
   "source": [
    "Let's compute the mean of the density, averaged over all three POI, as well as the corresponding standard deviation. "
   ]
  },
  {
   "cell_type": "code",
   "execution_count": 30,
   "metadata": {
    "collapsed": false
   },
   "outputs": [
    {
     "name": "stdout",
     "output_type": "stream",
     "text": [
      "The mean of the Density is: 4.648731708575639\n",
      "The standard deviation of the Density is: 2.639184424055503\n"
     ]
    }
   ],
   "source": [
    "dens_mean = np.mean(df_POIList.Density)\n",
    "dens_std = np.std(df_POIList.Density)\n",
    "\n",
    "print('The mean of the Density is:', dens_mean)\n",
    "print('The standard deviation of the Density is:', dens_std)"
   ]
  },
  {
   "cell_type": "markdown",
   "metadata": {},
   "source": [
    "We can consider the following mathematical model. The unit of area corresponds to the one degree longitude by one degree longitude square. We break the whole area of interest into unit squares and count the number of requests that came from each square. We first create the new data frame df_Densities with four columns: latitude of the center of a square, longitude of the center of a square, numbers of requests that came from that square and the nearest POI."
   ]
  },
  {
   "cell_type": "code",
   "execution_count": 31,
   "metadata": {
    "collapsed": false
   },
   "outputs": [],
   "source": [
    "df_Densities = pd.DataFrame()\n",
    "\n",
    "lat_cent = []\n",
    "lon_cent = []\n",
    "num_req = []\n",
    "near_poi = []\n",
    "\n",
    "m = int(max_lon - min_lon)\n",
    "n = int(max_lat - min_lat)\n",
    "del_lon = (max_lon - min_lon)/m\n",
    "del_lat = (max_lat - min_lat)/n\n",
    "\n",
    " \n",
    "for i in range(m):\n",
    "    for j in range(n):\n",
    "        lon_cent.append(min_lon +(i+0.5)*del_lon)\n",
    "        lat_cent.append(min_lat +(j+0.5)*del_lat)\n",
    "        \n",
    "        mask = (min_lon +i*del_lon <= df_DataSample.Longitude) & \\\n",
    "            (df_DataSample.Longitude < min_lon +(i+1)*del_lon) & \\\n",
    "            (min_lat +j*del_lat <= df_DataSample.Latitude) & \\\n",
    "            (df_DataSample.Latitude < min_lat +(j+1)*del_lat)\n",
    "        \n",
    "        num_req.append(len(df_DataSample[mask].index)) \n",
    "        \n",
    "        auxlist= []\n",
    "        for l in list(df_POIList.index):\n",
    "            auxlist.append(euclidean2D(min_lat +(j+0.5)*del_lat, df_POIList.Latitude[l],\n",
    "                      min_lon +(i+0.5)*del_lon, df_POIList.Longitude[l]))\n",
    "        k = np.argmin(auxlist)\n",
    "        near_poi.append(df_POIList.POIID[k])\n",
    "   \n",
    "\n",
    "df_Densities['Lat_centers'] = lat_cent\n",
    "df_Densities['Lon_centers'] = lon_cent\n",
    "df_Densities['Req_number'] = num_req\n",
    "df_Densities['Nearest_POIID'] = near_poi"
   ]
  },
  {
   "cell_type": "code",
   "execution_count": 32,
   "metadata": {
    "collapsed": false
   },
   "outputs": [
    {
     "data": {
      "text/plain": [
       "array([   0,    2,    1,   13,   33,    9,  587,   16,   34,    3,    5,\n",
       "         26,   30,    6,   27,    4,   36,    7,   78,   18, 3815,  326,\n",
       "       1169, 1638,   93,   15,  164,   12,  224,   19,    8,   10,  568,\n",
       "         21,  107,  143,  108,  177,   24,  101,  100,  236,   23,   59,\n",
       "         38,   14,  716,   42,   41,   86, 5304,  304,   44,  124,   82,\n",
       "         28,  154,   51,  590,   57, 1020,   22,   11,  128,   69,   65,\n",
       "         73,  105,   37], dtype=int64)"
      ]
     },
     "execution_count": 32,
     "metadata": {},
     "output_type": "execute_result"
    }
   ],
   "source": [
    "df_Densities.Req_number.unique()"
   ]
  },
  {
   "cell_type": "markdown",
   "metadata": {},
   "source": [
    "Let's count how many times one can encounter the above given values for the numbers of requests per square. We see that the overwhelming majority of squares do not have any requests coming from them. 1,2,3,5 and 4 requests seem to be next most-common numbers. "
   ]
  },
  {
   "cell_type": "code",
   "execution_count": 33,
   "metadata": {
    "collapsed": false
   },
   "outputs": [
    {
     "name": "stdout",
     "output_type": "stream",
     "text": [
      "[(0, 1450), (1, 42), (2, 36), (3, 15), (5, 13), (4, 8), (9, 7), (6, 7), (13, 4), (16, 4), (7, 4), (10, 4), (36, 3), (26, 2), (18, 2), (15, 2), (12, 2), (8, 2), (38, 2), (14, 2), (33, 1)]\n"
     ]
    }
   ],
   "source": [
    "from collections import Counter\n",
    "\n",
    "print(Counter(df_Densities.Req_number.values).most_common(21))"
   ]
  },
  {
   "cell_type": "markdown",
   "metadata": {},
   "source": [
    "We now consider the mapping of the densities (the numbers of requests per unit square) onto the scale from -10 to 10. The mapping function will be created as follows: 0 requests correspond to -10, 1 request corresponds to -8, 2 yo -6, 3 to -4, 4 to -2, 5 (near average value) to 0, 6,7 to 2, 8,9 requests to 4, 10,11 to 6, 12,13 to 8, while 14 requests or more to 10. The new column with scaled density will be added to the dataframe."
   ]
  },
  {
   "cell_type": "code",
   "execution_count": 34,
   "metadata": {
    "collapsed": false
   },
   "outputs": [],
   "source": [
    "def map_func(k):\n",
    "    if k == 0: return -10\n",
    "    elif k == 1: return -8\n",
    "    elif k == 2: return -6\n",
    "    elif k == 3: return -4\n",
    "    elif k == 4: return -2\n",
    "    elif k == 5: return 0\n",
    "    elif (k == 6)| (k == 7): return 2\n",
    "    elif (k == 8)| (k == 9): return 4\n",
    "    elif (k == 10)| (k == 11): return 6\n",
    "    elif (k == 12)| (k == 13): return 8\n",
    "    else: return 10\n",
    "    \n",
    "df_Densities['Scaled_density'] = df_Densities.Req_number.map(map_func)"
   ]
  },
  {
   "cell_type": "code",
   "execution_count": 35,
   "metadata": {
    "collapsed": false
   },
   "outputs": [
    {
     "data": {
      "text/html": [
       "<div>\n",
       "<style scoped>\n",
       "    .dataframe tbody tr th:only-of-type {\n",
       "        vertical-align: middle;\n",
       "    }\n",
       "\n",
       "    .dataframe tbody tr th {\n",
       "        vertical-align: top;\n",
       "    }\n",
       "\n",
       "    .dataframe thead th {\n",
       "        text-align: right;\n",
       "    }\n",
       "</style>\n",
       "<table border=\"1\" class=\"dataframe\">\n",
       "  <thead>\n",
       "    <tr style=\"text-align: right;\">\n",
       "      <th></th>\n",
       "      <th>Lat_centers</th>\n",
       "      <th>Lon_centers</th>\n",
       "      <th>Req_number</th>\n",
       "      <th>Nearest_POIID</th>\n",
       "      <th>Scaled_density</th>\n",
       "    </tr>\n",
       "  </thead>\n",
       "  <tbody>\n",
       "    <tr>\n",
       "      <th>0</th>\n",
       "      <td>42.573332</td>\n",
       "      <td>-136.034251</td>\n",
       "      <td>0</td>\n",
       "      <td>POI1</td>\n",
       "      <td>-10</td>\n",
       "    </tr>\n",
       "    <tr>\n",
       "      <th>1</th>\n",
       "      <td>43.611998</td>\n",
       "      <td>-136.034251</td>\n",
       "      <td>0</td>\n",
       "      <td>POI1</td>\n",
       "      <td>-10</td>\n",
       "    </tr>\n",
       "    <tr>\n",
       "      <th>2</th>\n",
       "      <td>44.650663</td>\n",
       "      <td>-136.034251</td>\n",
       "      <td>0</td>\n",
       "      <td>POI1</td>\n",
       "      <td>-10</td>\n",
       "    </tr>\n",
       "    <tr>\n",
       "      <th>3</th>\n",
       "      <td>45.689328</td>\n",
       "      <td>-136.034251</td>\n",
       "      <td>0</td>\n",
       "      <td>POI1</td>\n",
       "      <td>-10</td>\n",
       "    </tr>\n",
       "    <tr>\n",
       "      <th>4</th>\n",
       "      <td>46.727992</td>\n",
       "      <td>-136.034251</td>\n",
       "      <td>0</td>\n",
       "      <td>POI1</td>\n",
       "      <td>-10</td>\n",
       "    </tr>\n",
       "    <tr>\n",
       "      <th>5</th>\n",
       "      <td>47.766658</td>\n",
       "      <td>-136.034251</td>\n",
       "      <td>0</td>\n",
       "      <td>POI1</td>\n",
       "      <td>-10</td>\n",
       "    </tr>\n",
       "    <tr>\n",
       "      <th>6</th>\n",
       "      <td>48.805323</td>\n",
       "      <td>-136.034251</td>\n",
       "      <td>0</td>\n",
       "      <td>POI1</td>\n",
       "      <td>-10</td>\n",
       "    </tr>\n",
       "    <tr>\n",
       "      <th>7</th>\n",
       "      <td>49.843988</td>\n",
       "      <td>-136.034251</td>\n",
       "      <td>0</td>\n",
       "      <td>POI1</td>\n",
       "      <td>-10</td>\n",
       "    </tr>\n",
       "    <tr>\n",
       "      <th>8</th>\n",
       "      <td>50.882653</td>\n",
       "      <td>-136.034251</td>\n",
       "      <td>0</td>\n",
       "      <td>POI1</td>\n",
       "      <td>-10</td>\n",
       "    </tr>\n",
       "    <tr>\n",
       "      <th>9</th>\n",
       "      <td>51.921318</td>\n",
       "      <td>-136.034251</td>\n",
       "      <td>0</td>\n",
       "      <td>POI1</td>\n",
       "      <td>-10</td>\n",
       "    </tr>\n",
       "    <tr>\n",
       "      <th>10</th>\n",
       "      <td>52.959983</td>\n",
       "      <td>-136.034251</td>\n",
       "      <td>0</td>\n",
       "      <td>POI1</td>\n",
       "      <td>-10</td>\n",
       "    </tr>\n",
       "    <tr>\n",
       "      <th>11</th>\n",
       "      <td>53.998648</td>\n",
       "      <td>-136.034251</td>\n",
       "      <td>0</td>\n",
       "      <td>POI1</td>\n",
       "      <td>-10</td>\n",
       "    </tr>\n",
       "    <tr>\n",
       "      <th>12</th>\n",
       "      <td>55.037312</td>\n",
       "      <td>-136.034251</td>\n",
       "      <td>0</td>\n",
       "      <td>POI1</td>\n",
       "      <td>-10</td>\n",
       "    </tr>\n",
       "    <tr>\n",
       "      <th>13</th>\n",
       "      <td>56.075978</td>\n",
       "      <td>-136.034251</td>\n",
       "      <td>0</td>\n",
       "      <td>POI1</td>\n",
       "      <td>-10</td>\n",
       "    </tr>\n",
       "    <tr>\n",
       "      <th>14</th>\n",
       "      <td>57.114643</td>\n",
       "      <td>-136.034251</td>\n",
       "      <td>0</td>\n",
       "      <td>POI1</td>\n",
       "      <td>-10</td>\n",
       "    </tr>\n",
       "    <tr>\n",
       "      <th>15</th>\n",
       "      <td>58.153307</td>\n",
       "      <td>-136.034251</td>\n",
       "      <td>0</td>\n",
       "      <td>POI1</td>\n",
       "      <td>-10</td>\n",
       "    </tr>\n",
       "    <tr>\n",
       "      <th>16</th>\n",
       "      <td>59.191973</td>\n",
       "      <td>-136.034251</td>\n",
       "      <td>0</td>\n",
       "      <td>POI1</td>\n",
       "      <td>-10</td>\n",
       "    </tr>\n",
       "    <tr>\n",
       "      <th>17</th>\n",
       "      <td>60.230638</td>\n",
       "      <td>-136.034251</td>\n",
       "      <td>0</td>\n",
       "      <td>POI1</td>\n",
       "      <td>-10</td>\n",
       "    </tr>\n",
       "    <tr>\n",
       "      <th>18</th>\n",
       "      <td>61.269303</td>\n",
       "      <td>-136.034251</td>\n",
       "      <td>0</td>\n",
       "      <td>POI1</td>\n",
       "      <td>-10</td>\n",
       "    </tr>\n",
       "    <tr>\n",
       "      <th>19</th>\n",
       "      <td>62.307968</td>\n",
       "      <td>-136.034251</td>\n",
       "      <td>0</td>\n",
       "      <td>POI1</td>\n",
       "      <td>-10</td>\n",
       "    </tr>\n",
       "  </tbody>\n",
       "</table>\n",
       "</div>"
      ],
      "text/plain": [
       "    Lat_centers  Lon_centers  Req_number Nearest_POIID  Scaled_density\n",
       "0     42.573332  -136.034251           0          POI1             -10\n",
       "1     43.611998  -136.034251           0          POI1             -10\n",
       "2     44.650663  -136.034251           0          POI1             -10\n",
       "3     45.689328  -136.034251           0          POI1             -10\n",
       "4     46.727992  -136.034251           0          POI1             -10\n",
       "5     47.766658  -136.034251           0          POI1             -10\n",
       "6     48.805323  -136.034251           0          POI1             -10\n",
       "7     49.843988  -136.034251           0          POI1             -10\n",
       "8     50.882653  -136.034251           0          POI1             -10\n",
       "9     51.921318  -136.034251           0          POI1             -10\n",
       "10    52.959983  -136.034251           0          POI1             -10\n",
       "11    53.998648  -136.034251           0          POI1             -10\n",
       "12    55.037312  -136.034251           0          POI1             -10\n",
       "13    56.075978  -136.034251           0          POI1             -10\n",
       "14    57.114643  -136.034251           0          POI1             -10\n",
       "15    58.153307  -136.034251           0          POI1             -10\n",
       "16    59.191973  -136.034251           0          POI1             -10\n",
       "17    60.230638  -136.034251           0          POI1             -10\n",
       "18    61.269303  -136.034251           0          POI1             -10\n",
       "19    62.307968  -136.034251           0          POI1             -10"
      ]
     },
     "execution_count": 35,
     "metadata": {},
     "output_type": "execute_result"
    }
   ],
   "source": [
    "df_Densities.head(20)"
   ]
  },
  {
   "cell_type": "markdown",
   "metadata": {},
   "source": [
    "Finally, we will plot the results using the scatter plot using the variable marker sizes. The unit areas that have greater than average scaled density are denoted with circles of blue green and red color, while those with smaller than average scaled density are represented with the lighter shadows of the abovementined colors"
   ]
  },
  {
   "cell_type": "code",
   "execution_count": 36,
   "metadata": {
    "collapsed": false
   },
   "outputs": [
    {
     "data": {
      "image/png": "[encoded data removed]",
      "text/plain": [
       "<matplotlib.figure.Figure at 0x2c0ea29ae10>"
      ]
     },
     "metadata": {},
     "output_type": "display_data"
    }
   ],
   "source": [
    "plt.figure(figsize=(15,5))\n",
    "\n",
    "mask1a = (df_Densities.Nearest_POIID == 'POI1') & (df_Densities.Scaled_density >0)\n",
    "mask1b = (df_Densities.Nearest_POIID == 'POI1') & (df_Densities.Scaled_density <=0)\n",
    "\n",
    "mask2a = (df_Densities.Nearest_POIID == 'POI3') & (df_Densities.Scaled_density >0)\n",
    "mask2b = (df_Densities.Nearest_POIID == 'POI3') & (df_Densities.Scaled_density <=0)\n",
    "\n",
    "mask3a = (df_Densities.Nearest_POIID == 'POI4') & (df_Densities.Scaled_density >0)\n",
    "mask3b = (df_Densities.Nearest_POIID == 'POI4') & (df_Densities.Scaled_density <=0)\n",
    "\n",
    "plt.scatter(df_Densities[mask1a].Lon_centers.values, df_Densities[mask1a].Lat_centers.values,\n",
    "           color = 'b', marker = 'o',s = 4*(df_Densities[mask1a].Scaled_density.values+10),\n",
    "           label='POI1')\n",
    "\n",
    "plt.scatter(df_Densities[mask1b].Lon_centers.values, df_Densities[mask1b].Lat_centers.values,\n",
    "           color = 'dodgerblue', marker = 'o',s = 4*(df_Densities[mask1b].Scaled_density.values+10),\n",
    "           label='POI1')\n",
    "\n",
    "plt.scatter(df_Densities[mask2a].Lon_centers.values, df_Densities[mask2a].Lat_centers.values,\n",
    "           color = 'g', marker = 'o',s = 4*(df_Densities[mask2a].Scaled_density.values+10),\n",
    "           label='POI3')\n",
    "\n",
    "plt.scatter(df_Densities[mask2b].Lon_centers.values, df_Densities[mask2b].Lat_centers.values,\n",
    "           color = 'lawngreen', marker = 'o',s = 4*(df_Densities[mask2b].Scaled_density.values+10),\n",
    "           label='POI3')\n",
    "\n",
    "\n",
    "plt.scatter(df_Densities[mask3a].Lon_centers.values, df_Densities[mask3a].Lat_centers.values,\n",
    "           color = 'r', marker = 'o',s = 4*(df_Densities[mask3a].Scaled_density.values+10),\n",
    "           label='POI4')\n",
    "\n",
    "plt.scatter(df_Densities[mask3b].Lon_centers.values, df_Densities[mask3b].Lat_centers.values,\n",
    "           color = 'coral', marker = 'o',s = 4*(df_Densities[mask3b].Scaled_density.values+10),\n",
    "           label='POI4')\n",
    "\n",
    "plt.ylim((40,70))\n",
    "plt.xlim((-140,-50))\n",
    "\n",
    "plt.xlabel('LONGITUDE', fontsize =15)\n",
    "plt.ylabel('LATITUDE', fontsize =15)\n",
    "plt.legend(fontsize = 14, loc =1)\n",
    "plt.title('SCALED DENSITIES', fontsize =16)\n",
    "\n",
    "plt.show()"
   ]
  },
  {
   "cell_type": "markdown",
   "metadata": {},
   "source": [
    "We see that the highest requests densities came the densely populated areas around large provincial cities as well as Greater Toronto Area."
   ]
  },
  {
   "cell_type": "markdown",
   "metadata": {
    "collapsed": true
   },
   "source": [
    "## Model: Part 2"
   ]
  },
  {
   "cell_type": "markdown",
   "metadata": {},
   "source": [
    "In this section, we perform some statistical tests with respect to the Distances in the  df_DataSample.Distance column. We first determine whether the Distances for each POI obey the normal distributions with the calculated mean and standard deviation. We will use the normaltest from scipy.stats module. The null-hypothesis states that data obey normal distribution. Running the tests leads to extremely small p_values indicating that the data in all three 'Distance' datasets do not obey normal distribution."
   ]
  },
  {
   "cell_type": "code",
   "execution_count": 37,
   "metadata": {
    "collapsed": false
   },
   "outputs": [
    {
     "name": "stdout",
     "output_type": "stream",
     "text": [
      "p-value for null-hypothesis that Distances around POI1 obey normal distribution: 0.0\n",
      "p-value for null-hypothesis that Distances around POI3 obey normal distribution: 2.30122848699e-286\n",
      "p-value for null-hypothesis that Distances around POI4 obey normal distribution: 7.28060770963e-36\n"
     ]
    }
   ],
   "source": [
    "from scipy import stats\n",
    "\n",
    "_, p1 = stats.normaltest(df_DataSample.Distance[df_DataSample.Nearest_POIID == 'POI1'].values)\n",
    "_, p3 = stats.normaltest(df_DataSample.Distance[df_DataSample.Nearest_POIID == 'POI3'].values)\n",
    "_, p4 = stats.normaltest(df_DataSample.Distance[df_DataSample.Nearest_POIID == 'POI4'].values)\n",
    "  \n",
    "print('p-value for null-hypothesis that Distances around POI1 obey normal distribution:',p1)\n",
    "print('p-value for null-hypothesis that Distances around POI3 obey normal distribution:',p3)\n",
    "print('p-value for null-hypothesis that Distances around POI4 obey normal distribution:',p4)"
   ]
  },
  {
   "cell_type": "markdown",
   "metadata": {},
   "source": [
    "We can ask a question about a possible form of the distributions of distances. The histogram plots below show that all three distributions for distances from POI are highly non-uniform. Large values are concentrated around certain distances (or in reality certain locations), so it is difficult to think about any well-known texbook continuos distributions the distances can obey. "
   ]
  },
  {
   "cell_type": "code",
   "execution_count": 38,
   "metadata": {
    "collapsed": false
   },
   "outputs": [
    {
     "data": {
      "image/png": "[encoded data removed]",
      "text/plain": [
       "<matplotlib.figure.Figure at 0x2c0ebdd4da0>"
      ]
     },
     "metadata": {},
     "output_type": "display_data"
    }
   ],
   "source": [
    "fig, ax = plt.subplots(1, 3, tight_layout=False, figsize=(14,6))\n",
    "\n",
    "ax[0].hist(df_DataSample.Distance[df_DataSample.Nearest_POIID == 'POI1'].values, bins=20)\n",
    "ax[1].hist(df_DataSample.Distance[df_DataSample.Nearest_POIID == 'POI3'].values, bins=20)\n",
    "ax[2].hist(df_DataSample.Distance[df_DataSample.Nearest_POIID == 'POI4'].values, bins=20)\n",
    "\n",
    "ax[0].set_title('Distribution for POI1')\n",
    "ax[1].set_title('Distribution for POI3')\n",
    "ax[2].set_title('Distribution for POI4')\n",
    "\n",
    "plt.show()"
   ]
  }
 ],
 "metadata": {
  "kernelspec": {
   "display_name": "Python 3",
   "language": "python",
   "name": "python3"
  },
  "language_info": {
   "codemirror_mode": {
    "name": "ipython",
    "version": 3
   },
   "file_extension": ".py",
   "mimetype": "text/x-python",
   "name": "python",
   "nbconvert_exporter": "python",
   "pygments_lexer": "ipython3",
   "version": "3.6.0"
  }
 },
 "nbformat": 4,
 "nbformat_minor": 2
}
