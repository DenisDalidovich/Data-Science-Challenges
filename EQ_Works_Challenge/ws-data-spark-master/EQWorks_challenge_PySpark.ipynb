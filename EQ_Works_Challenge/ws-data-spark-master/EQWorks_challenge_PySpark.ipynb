{
 "cells": [
  {
   "cell_type": "markdown",
   "metadata": {},
   "source": [
    "# EQWorks challenge (PySpark)"
   ]
  },
  {
   "cell_type": "code",
   "execution_count": 1,
   "metadata": {
    "collapsed": false
   },
   "outputs": [
    {
     "data": {
      "text/html": [
       "\n",
       "        <div>\n",
       "            <p><b>SparkContext</b></p>\n",
       "\n",
       "            <p><a href=\"http://192.168.2.11:4040\">Spark UI</a></p>\n",
       "\n",
       "            <dl>\n",
       "              <dt>Version</dt>\n",
       "                <dd><code>v2.3.1</code></dd>\n",
       "              <dt>Master</dt>\n",
       "                <dd><code>local[*]</code></dd>\n",
       "              <dt>AppName</dt>\n",
       "                <dd><code>pyspark-shell</code></dd>\n",
       "            </dl>\n",
       "        </div>\n",
       "        "
      ],
      "text/plain": [
       "<SparkContext master=local[*] appName=pyspark-shell>"
      ]
     },
     "execution_count": 1,
     "metadata": {},
     "output_type": "execute_result"
    }
   ],
   "source": [
    "import findspark\n",
    "\n",
    "findspark.init(\"C:\\spark\\spark\")\n",
    "\n",
    "from pyspark import SparkContext, SQLContext, SparkConf\n",
    "sc = SparkContext()\n",
    "\n",
    "sc"
   ]
  },
  {
   "cell_type": "code",
   "execution_count": 2,
   "metadata": {
    "collapsed": false
   },
   "outputs": [],
   "source": [
    "from pyspark.sql.session import SparkSession\n",
    "spark = SparkSession(sc)"
   ]
  },
  {
   "cell_type": "markdown",
   "metadata": {},
   "source": [
    "We first read-off the files from Github repository. We will use the raw data. The DataSample.csv file contains 22015 rows while POIList.csv only 4."
   ]
  },
  {
   "cell_type": "code",
   "execution_count": 3,
   "metadata": {
    "collapsed": false
   },
   "outputs": [],
   "source": [
    "from pyspark import SparkFiles\n",
    "\n",
    "url1 = \"https://raw.githubusercontent.com/EQWorks/ws-data-spark/master/data/DataSample.csv\"\n",
    "sc.addFile(url1)\n",
    "\n",
    "df_DataSample = spark.read.csv(SparkFiles.get(\"DataSample.csv\"), header=True)"
   ]
  },
  {
   "cell_type": "code",
   "execution_count": 4,
   "metadata": {
    "collapsed": false
   },
   "outputs": [
    {
     "name": "stdout",
     "output_type": "stream",
     "text": [
      "+-------+--------------------+-------+--------+------------+--------+---------+\n",
      "|    _ID|              TimeSt|Country|Province|        City|Latitude|Longitude|\n",
      "+-------+--------------------+-------+--------+------------+--------+---------+\n",
      "|4516516|2017-06-21 00:00:...|     CA|      ON|    Waterloo|43.49347|-80.49123|\n",
      "|4516547|2017-06-21 18:00:...|     CA|      ON|      London|42.93990|-81.27090|\n",
      "|4516550|2017-06-21 15:00:...|     CA|      ON|      Guelph|43.57760|-80.22010|\n",
      "|4516600|2017-06-21 15:00:...|     CA|      ON|   Stratford|43.37160|-80.97730|\n",
      "|4516613|2017-06-21 15:00:...|     CA|      ON|   Stratford|43.37160|-80.97730|\n",
      "|4516693|2017-06-21 14:00:...|     CA|      ON|   Kitchener|43.43810|-80.50990|\n",
      "|4516771|2017-06-21 10:00:...|     CA|      ON|      Sarnia|42.96100|-82.37300|\n",
      "|4516831|2017-06-21 12:00:...|     CA|      ON|      London|43.00910|-81.17650|\n",
      "|4516915|2017-06-21 15:00:...|     CA|      ON|      London|43.00910|-81.17650|\n",
      "|4516953|2017-06-21 16:00:...|     CA|      ON|   Kitchener|43.42780|-80.51350|\n",
      "|4516966|2017-06-21 01:00:...|     CA|      ON|   Kitchener|43.43810|-80.50990|\n",
      "|4517044|2017-06-21 21:00:...|     CA|      ON|     Windsor|42.28250|-83.03720|\n",
      "|4517047|2017-06-21 12:00:...|     CA|      ON|      London|43.00910|-81.17650|\n",
      "|4517081|2017-06-21 22:00:...|     CA|      ON|     Windsor|42.24397|-82.98058|\n",
      "|4517175|2017-06-21 19:00:...|     CA|      ON|Saint Thomas|42.77920|-81.19270|\n",
      "|4517220|2017-06-21 18:00:...|     CA|      ON|    Waterloo|43.46340|-80.52010|\n",
      "|4517250|2017-06-21 03:00:...|     CA|      ON|     Chatham|42.42470|-82.17550|\n",
      "|4517303|2017-06-21 03:00:...|     CA|      ON|     Windsor|42.29570|-82.95990|\n",
      "|4517326|2017-06-21 04:00:...|     CA|      ON|      Guelph|43.54250|-80.26760|\n",
      "|4517347|2017-06-21 03:00:...|     CA|      ON|     Windsor|42.29570|-82.95990|\n",
      "+-------+--------------------+-------+--------+------------+--------+---------+\n",
      "only showing top 20 rows\n",
      "\n"
     ]
    }
   ],
   "source": [
    "df_DataSample.show()"
   ]
  },
  {
   "cell_type": "code",
   "execution_count": 5,
   "metadata": {
    "collapsed": false
   },
   "outputs": [
    {
     "data": {
      "text/plain": [
       "22025"
      ]
     },
     "execution_count": 5,
     "metadata": {},
     "output_type": "execute_result"
    }
   ],
   "source": [
    "df_DataSample.count()"
   ]
  },
  {
   "cell_type": "code",
   "execution_count": 6,
   "metadata": {
    "collapsed": false
   },
   "outputs": [
    {
     "name": "stdout",
     "output_type": "stream",
     "text": [
      "+-----+----------+------------+\n",
      "|POIID|  Latitude|   Longitude|\n",
      "+-----+----------+------------+\n",
      "| POI1| 53.546167| -113.485734|\n",
      "| POI2| 53.546167| -113.485734|\n",
      "| POI3| 45.521629|  -73.566024|\n",
      "| POI4| 45.224830|  -63.232729|\n",
      "+-----+----------+------------+\n",
      "\n"
     ]
    }
   ],
   "source": [
    "url2 = \"https://raw.githubusercontent.com/EQWorks/ws-data-spark/master/data/POIList.csv\"\n",
    "sc.addFile(url2)\n",
    "\n",
    "df_POIList = spark.read.csv(SparkFiles.get(\"POIList.csv\"), header=True)\n",
    "\n",
    "df_POIList.show()"
   ]
  },
  {
   "cell_type": "markdown",
   "metadata": {},
   "source": [
    "## Part 0: Cleaning "
   ]
  },
  {
   "cell_type": "markdown",
   "metadata": {},
   "source": [
    "Let's first look at the duplicated rows that have have identical geoinfo and timest entries; these rows are deemed suspicious. Analysis shows that there are 2026 such rows."
   ]
  },
  {
   "cell_type": "code",
   "execution_count": 7,
   "metadata": {
    "collapsed": false
   },
   "outputs": [
    {
     "data": {
      "text/plain": [
       "['_ID', ' TimeSt', 'Country', 'Province', 'City', 'Latitude', 'Longitude']"
      ]
     },
     "execution_count": 7,
     "metadata": {},
     "output_type": "execute_result"
    }
   ],
   "source": [
    "df_DataSample.columns"
   ]
  },
  {
   "cell_type": "code",
   "execution_count": 8,
   "metadata": {
    "collapsed": false
   },
   "outputs": [
    {
     "data": {
      "text/plain": [
       "['POIID', ' Latitude', 'Longitude']"
      ]
     },
     "execution_count": 8,
     "metadata": {},
     "output_type": "execute_result"
    }
   ],
   "source": [
    "df_POIList.columns"
   ]
  },
  {
   "cell_type": "markdown",
   "metadata": {},
   "source": [
    "We first for convenience remove spaces and underscores from two names of the columns at the beginning of each name in the df_DataSample dataframe; we then subsequently remove space from the name of one of the columns of the df_POIList dataframe."
   ]
  },
  {
   "cell_type": "code",
   "execution_count": 9,
   "metadata": {
    "collapsed": false
   },
   "outputs": [],
   "source": [
    "df_DataSample = df_DataSample.withColumnRenamed('_ID', 'ID')"
   ]
  },
  {
   "cell_type": "code",
   "execution_count": 10,
   "metadata": {
    "collapsed": false
   },
   "outputs": [],
   "source": [
    "df_DataSample = df_DataSample.withColumnRenamed(' TimeSt', 'TimeSt')\n",
    "\n",
    "#df_DataSample.show(10)"
   ]
  },
  {
   "cell_type": "code",
   "execution_count": 11,
   "metadata": {
    "collapsed": true
   },
   "outputs": [],
   "source": [
    "df_POIList = df_POIList.withColumnRenamed(' Latitude', 'Latitude')"
   ]
  },
  {
   "cell_type": "markdown",
   "metadata": {},
   "source": [
    "Let's remove the duplicate rows in the df_DataSample dataframe. We are now down to 19999 rows."
   ]
  },
  {
   "cell_type": "code",
   "execution_count": 12,
   "metadata": {
    "collapsed": false
   },
   "outputs": [
    {
     "data": {
      "text/plain": [
       "19999"
      ]
     },
     "execution_count": 12,
     "metadata": {},
     "output_type": "execute_result"
    }
   ],
   "source": [
    "df_DataSample = df_DataSample.dropDuplicates(subset=['TimeSt','Latitude', 'Longitude'])\n",
    "\n",
    "df_DataSample.count()"
   ]
  },
  {
   "cell_type": "markdown",
   "metadata": {},
   "source": [
    "We also see that there are duplicate rows in the POIList.csv file. We remove one of the rows there as well."
   ]
  },
  {
   "cell_type": "code",
   "execution_count": 13,
   "metadata": {
    "collapsed": false
   },
   "outputs": [
    {
     "name": "stdout",
     "output_type": "stream",
     "text": [
      "+-----+----------+------------+\n",
      "|POIID|  Latitude|   Longitude|\n",
      "+-----+----------+------------+\n",
      "| POI3| 45.521629|  -73.566024|\n",
      "| POI1| 53.546167| -113.485734|\n",
      "| POI4| 45.224830|  -63.232729|\n",
      "+-----+----------+------------+\n",
      "\n"
     ]
    }
   ],
   "source": [
    "df_POIList = df_POIList.dropDuplicates(subset=['Latitude', 'Longitude'])\n",
    "df_POIList.show()"
   ]
  },
  {
   "cell_type": "markdown",
   "metadata": {},
   "source": [
    "We need to convert the Latitude and Longitude values in the df_DataSample and df_POIList dataframes to float type."
   ]
  },
  {
   "cell_type": "code",
   "execution_count": 14,
   "metadata": {
    "collapsed": true
   },
   "outputs": [],
   "source": [
    "from pyspark.sql.functions import col\n",
    "\n",
    "for col_name in ['Latitude', 'Longitude']:\n",
    "    df_DataSample = df_DataSample.withColumn(col_name, col(col_name).cast('float'))\n",
    "    \n",
    "for col_name in ['Latitude', 'Longitude']:\n",
    "    df_POIList = df_POIList.withColumn(col_name, col(col_name).cast('float'))"
   ]
  },
  {
   "cell_type": "markdown",
   "metadata": {
    "collapsed": true
   },
   "source": [
    "##  Part 1: Label "
   ]
  },
  {
   "cell_type": "markdown",
   "metadata": {},
   "source": [
    "Let's assign each request to one of the POI locations that has a minimum distance to the request location. We will be using Pythagorean distance only for simplicity, which of course does not have much to do with reality. We in fact assume that we work on the plane map of the world. One should use Haversine or Vincenty distance and make plots on a sphere. "
   ]
  },
  {
   "cell_type": "code",
   "execution_count": 15,
   "metadata": {
    "collapsed": false
   },
   "outputs": [
    {
     "name": "stdout",
     "output_type": "stream",
     "text": [
      "+-------+--------------------+-------+--------+----------+--------+---------+-------+-------------+------------------+\n",
      "|     ID|              TimeSt|Country|Province|      City|Latitude|Longitude|     ID|Nearest_POIID|          Distance|\n",
      "+-------+--------------------+-------+--------+----------+--------+---------+-------+-------------+------------------+\n",
      "|5373332|2017-06-21 00:00:...|     CA|      ON|Burlington| 43.3889| -79.7682|5373332|         POI3|6.5586244725946035|\n",
      "|4750350|2017-06-21 00:15:...|     CA|      ON|    Barrie| 44.4015| -79.6782|4750350|         POI3| 6.213965821656383|\n",
      "|5185275|2017-06-21 00:46:...|     CA|      NB|   Moncton| 46.1183| -64.7338|5185275|         POI4|1.7468563035457823|\n",
      "|5390977|2017-06-21 01:02:...|     CA|      ON|   Toronto| 43.6477| -79.4174|5390977|         POI3| 6.144115717141835|\n",
      "|4708400|2017-06-21 01:12:...|     CA|      AB|  Red Deer| 52.2651| -113.794|4708400|         POI1|1.3176342897217976|\n",
      "+-------+--------------------+-------+--------+----------+--------+---------+-------+-------------+------------------+\n",
      "only showing top 5 rows\n",
      "\n"
     ]
    }
   ],
   "source": [
    "from numpy import argmin\n",
    "from math import sqrt\n",
    "\n",
    "\n",
    "data1  = [[i.POIID, i.Latitude, i.Longitude] for i in df_POIList.select(['POIID', \n",
    "        'Latitude', 'Longitude']).collect()]\n",
    "\n",
    "def euclidean2D(x1, x2, y1, y2):\n",
    "    return sqrt((x2 - x1)**2 + (y2 - y1)**2)\n",
    "\n",
    "def euclfunc(x, y, data1):\n",
    "    \n",
    "    auxlist= []\n",
    "    \n",
    "    for i in range(len(data1)):\n",
    "        auxlist.append(euclidean2D(x, data1[i][1], y, data1[i][2]))\n",
    "    \n",
    "    k = argmin(auxlist)\n",
    "    \n",
    "    return (data1[k][0], auxlist[k])\n",
    "\n",
    "\n",
    "\n",
    "data2 = [[i.ID, i.Latitude, i.Longitude]  for i in df_DataSample.select(['ID',\n",
    "        'Latitude', 'Longitude']).collect()]\n",
    "\n",
    "data_array = []\n",
    "for m in range(len(data2)):\n",
    "    \n",
    "    aa = euclfunc(data2[m][1], data2[m][2], data1)\n",
    "    \n",
    "    data_array.extend([(data2[m][0], aa[0], aa[1])])\n",
    "    \n",
    "df_aux = spark.createDataFrame(data = data_array, schema = [\"ID\", \"Nearest_POIID\", \"Distance\"])\n",
    "\n",
    "\n",
    "df_DataSample = df_DataSample.join(df_aux, df_DataSample.ID == df_aux.ID)\n",
    "\n",
    "df_DataSample.show(5)"
   ]
  },
  {
   "cell_type": "markdown",
   "metadata": {},
   "source": [
    "Let's print the maximum and minimum values of the longitude and latitude."
   ]
  },
  {
   "cell_type": "code",
   "execution_count": 16,
   "metadata": {
    "collapsed": false
   },
   "outputs": [
    {
     "name": "stdout",
     "output_type": "stream",
     "text": [
      "The maximum value of latitude is: 62.827301025390625\n",
      "The minimum value of latitude is: 6.927420139312744\n",
      "The maximum value of longitude is: 125.70220184326172\n",
      "The minimum value of longitude is: -136.53956604003906\n"
     ]
    }
   ],
   "source": [
    "print('The maximum value of latitude is:', \n",
    "      df_DataSample.groupby().max('Latitude').collect()[0].asDict()['max(Latitude)'])\n",
    "print('The minimum value of latitude is:', \n",
    "      df_DataSample.groupby().min('Latitude').collect()[0].asDict()['min(Latitude)'])\n",
    "print('The maximum value of longitude is:', \n",
    "      df_DataSample.groupby().max('Longitude').collect()[0].asDict()['max(Longitude)'])\n",
    "print('The minimum value of longitude is:', \n",
    "      df_DataSample.groupby().min('Longitude').collect()[0].asDict()['min(Longitude)'])"
   ]
  },
  {
   "cell_type": "markdown",
   "metadata": {},
   "source": [
    "We see that there are some suspicious data that involve the positive longitudes. There are 22 such entries, and these data seem extreme and suspicious. Let's remove them. "
   ]
  },
  {
   "cell_type": "code",
   "execution_count": 17,
   "metadata": {
    "collapsed": false
   },
   "outputs": [
    {
     "data": {
      "text/plain": [
       "22"
      ]
     },
     "execution_count": 17,
     "metadata": {},
     "output_type": "execute_result"
    }
   ],
   "source": [
    "df_DataSample.filter(df_DataSample.Longitude > 0).count()"
   ]
  },
  {
   "cell_type": "code",
   "execution_count": 18,
   "metadata": {
    "collapsed": true
   },
   "outputs": [],
   "source": [
    "df_DataSample = df_DataSample.filter(df_DataSample.Longitude < 0)"
   ]
  },
  {
   "cell_type": "markdown",
   "metadata": {},
   "source": [
    "Let's now print the maximal and minimal values of the latitude and longitude once again. Now, the data seem much more reasonable."
   ]
  },
  {
   "cell_type": "code",
   "execution_count": 19,
   "metadata": {
    "collapsed": false
   },
   "outputs": [
    {
     "name": "stdout",
     "output_type": "stream",
     "text": [
      "The maximum value of latitude is: 62.827301025390625\n",
      "The minimum value of latitude is: 42.05400085449219\n",
      "The maximum value of longitude is: -52.65660095214844\n",
      "The minimum value of longitude is: -136.53956604003906\n"
     ]
    }
   ],
   "source": [
    "min_lat = df_DataSample.groupby().min('Latitude').collect()[0].asDict()['min(Latitude)']\n",
    "max_lat = df_DataSample.groupby().max('Latitude').collect()[0].asDict()['max(Latitude)']\n",
    "min_lon = df_DataSample.groupby().min('Longitude').collect()[0].asDict()['min(Longitude)']\n",
    "max_lon = df_DataSample.groupby().max('Longitude').collect()[0].asDict()['max(Longitude)']\n",
    "\n",
    "print('The maximum value of latitude is:', max_lat)\n",
    "print('The minimum value of latitude is:', min_lat)\n",
    "print('The maximum value of longitude is:', max_lon)\n",
    "print('The minimum value of longitude is:', min_lon)"
   ]
  },
  {
   "cell_type": "markdown",
   "metadata": {},
   "source": [
    "## Part 2: Analysis "
   ]
  },
  {
   "cell_type": "markdown",
   "metadata": {},
   "source": [
    "For each POI, we calculate the average and standard deviation of distances between a given POI location and each of its assigned requests. We also compute the total number of requests for each POI, the radius (given by the maximum distance for a given POI) and density (request count/circle area) for each POI location. We create the corresponding four columns and add them to df_POIList dataframe. We will use the groupby and joining operations."
   ]
  },
  {
   "cell_type": "code",
   "execution_count": 20,
   "metadata": {
    "collapsed": false
   },
   "outputs": [
    {
     "data": {
      "text/plain": [
       "DataFrame[ID: string, TimeSt: string, Country: string, Province: string, City: string, Latitude: float, Longitude: float, ID: string, Nearest_POIID: string, Distance: double]"
      ]
     },
     "execution_count": 20,
     "metadata": {},
     "output_type": "execute_result"
    }
   ],
   "source": [
    "df_DataSample.persist()"
   ]
  },
  {
   "cell_type": "code",
   "execution_count": 21,
   "metadata": {
    "collapsed": false
   },
   "outputs": [
    {
     "name": "stdout",
     "output_type": "stream",
     "text": [
      "+-----+-----------------+------------------+------------------+----------+------------------+\n",
      "|POIID|    Distance_Mean|      Distance_Std|            Radius|Req_number|           Density|\n",
      "+-----+-----------------+------------------+------------------+----------+------------------+\n",
      "| POI4|2.871911475193963| 2.866710836537531|10.821120739708647|       462|1.2558784757192816|\n",
      "| POI1|3.348182332186283| 3.858489646840603| 24.85193540990645|      9698| 4.998179796220509|\n",
      "| POI3|5.537950281140558|2.8586896565248407|20.155375951139405|      9817| 7.692138790575409|\n",
      "+-----+-----------------+------------------+------------------+----------+------------------+\n",
      "\n"
     ]
    }
   ],
   "source": [
    "from pyspark.sql.functions import mean, max, stddev, count\n",
    "from math import pi\n",
    "\n",
    "df_POIList = df_POIList.join( df_DataSample.select(['Nearest_POIID', 'Distance']).\n",
    "                             groupBy('Nearest_POIID').\\\n",
    "agg( mean(\"Distance\").alias(\"Distance_Mean\"), stddev(\"Distance\").alias(\"Distance_Std\"),\n",
    "max(\"Distance\").alias(\"Radius\"), count(\"Distance\").alias(\"Req_number\") ),\n",
    "                              df_POIList.POIID == df_DataSample.Nearest_POIID ).\\\n",
    "                             drop('Nearest_POIID')\n",
    "\n",
    "df_POIList = df_POIList.withColumn('Density', df_POIList.Req_number/(pi*(df_POIList.Radius**2)) )\n",
    "                                   \n",
    "df_POIList.persist()\n",
    "\n",
    "df_POIList.select(['POIID', 'Distance_Mean', 'Distance_Std', 'Radius',\n",
    "                  'Req_number', 'Density']).show()                           "
   ]
  },
  {
   "cell_type": "markdown",
   "metadata": {
    "collapsed": true
   },
   "source": [
    "We now make the scatter plots of requests related to each POI with the circles centered at the coresponding POI locations. "
   ]
  },
  {
   "cell_type": "code",
   "execution_count": 22,
   "metadata": {
    "collapsed": false
   },
   "outputs": [
    {
     "data": {
      "image/png": "[encoded data removed]",
      "text/plain": [
       "<matplotlib.figure.Figure at 0x29eb3406ac8>"
      ]
     },
     "metadata": {},
     "output_type": "display_data"
    }
   ],
   "source": [
    "from matplotlib import pyplot as plt\n",
    "\n",
    "\n",
    "plt.figure(figsize=(8,8))\n",
    "ax = plt.gca()\n",
    "\n",
    "plt.scatter(\\\n",
    "[i.Longitude for i in df_DataSample.filter(df_DataSample.Nearest_POIID == 'POI1').\\\n",
    " select('Longitude').collect()],\n",
    "[i.Latitude for i in df_DataSample.filter(df_DataSample.Nearest_POIID == 'POI1').\n",
    " select('Latitude').collect()],\n",
    "           color = 'b', marker = '.', label='POI1')\n",
    "\n",
    "plt.scatter(\\\n",
    "[i.Longitude for i in df_DataSample.filter(df_DataSample.Nearest_POIID == 'POI3').\\\n",
    " select('Longitude').collect()],\n",
    "[i.Latitude for i in df_DataSample.filter(df_DataSample.Nearest_POIID == 'POI3').\n",
    " select('Latitude').collect()],\n",
    "           color = 'g', marker = '.', label='POI3')\n",
    "\n",
    "plt.scatter(\\\n",
    "[i.Longitude for i in df_DataSample.filter(df_DataSample.Nearest_POIID == 'POI4').\\\n",
    " select('Longitude').collect()],\n",
    "[i.Latitude for i in df_DataSample.filter(df_DataSample.Nearest_POIID == 'POI4').\n",
    " select('Latitude').collect()],\n",
    "           color = 'r', marker = '.', label='POI4')\n",
    "\n",
    "\n",
    "plt.ylim((0,90))\n",
    "plt.xlim((-140,-50))\n",
    "\n",
    "circle0 = plt.Circle(\\\n",
    "( df_POIList.filter(df_POIList.POIID == 'POI1').select('Longitude').collect()[0][0], \n",
    "  df_POIList.filter(df_POIList.POIID == 'POI1').select('Latitude').collect()[0][0] ), \n",
    "  df_POIList.filter(df_POIList.POIID == 'POI1').select('Radius').collect()[0][0] ,\n",
    "          color = 'b', fill = False )\n",
    "ax.add_artist(circle0)\n",
    "\n",
    "circle1 = plt.Circle(\\\n",
    "( df_POIList.filter(df_POIList.POIID == 'POI3').select('Longitude').collect()[0][0], \n",
    "  df_POIList.filter(df_POIList.POIID == 'POI3').select('Latitude').collect()[0][0] ), \n",
    "  df_POIList.filter(df_POIList.POIID == 'POI3').select('Radius').collect()[0][0] ,\n",
    "          color = 'g', fill = False )\n",
    "ax.add_artist(circle1)\n",
    "\n",
    "\n",
    "circle2 = plt.Circle(\\\n",
    "( df_POIList.filter(df_POIList.POIID == 'POI4').select('Longitude').collect()[0][0], \n",
    "  df_POIList.filter(df_POIList.POIID == 'POI4').select('Latitude').collect()[0][0] ), \n",
    "  df_POIList.filter(df_POIList.POIID == 'POI4').select('Radius').collect()[0][0] ,\n",
    "          color = 'r', fill = False )\n",
    "ax.add_artist(circle2)\n",
    "\n",
    "plt.xlabel('LONGITUDE', fontsize =15)\n",
    "plt.ylabel('LATITUDE', fontsize =15)\n",
    "plt.legend(fontsize = 14)\n",
    "plt.title('REQUESTS AND CIRCLES CENTERED AT POI', fontsize =16)\n",
    "\n",
    "plt.show()"
   ]
  },
  {
   "cell_type": "markdown",
   "metadata": {},
   "source": [
    "## Model: Part 1"
   ]
  },
  {
   "cell_type": "markdown",
   "metadata": {},
   "source": [
    "Let's compute the mean of the density, averaged over all three POI, as well as the corresponding standard deviation."
   ]
  },
  {
   "cell_type": "code",
   "execution_count": 23,
   "metadata": {
    "collapsed": false
   },
   "outputs": [
    {
     "name": "stdout",
     "output_type": "stream",
     "text": [
      "The mean of the Density is: 4.648732354171734\n",
      "The standard deviation of the Density is: 3.2323283939311915\n"
     ]
    }
   ],
   "source": [
    "dens_mean = df_POIList.groupby().agg(mean('Density')).collect()[0][0]\n",
    "dens_std = df_POIList.groupby().agg(stddev('Density')).collect()[0][0]\n",
    "\n",
    "print('The mean of the Density is:', dens_mean)\n",
    "print('The standard deviation of the Density is:', dens_std)"
   ]
  },
  {
   "cell_type": "markdown",
   "metadata": {},
   "source": [
    "We can consider the following mathematical model. The unit of area corresponds to the one degree longitude by one degree longitude square. We break the whole area of interest into unit squares and count the number of requests that came from each square. We first create the new data frame df_Densities with four columns: latitude of the center of a square, longitude of the center of a square, numbers of requests that came from that square and the nearest POI."
   ]
  },
  {
   "cell_type": "code",
   "execution_count": 24,
   "metadata": {
    "collapsed": false
   },
   "outputs": [
    {
     "name": "stdout",
     "output_type": "stream",
     "text": [
      "+------------------+-------------------+----------+-------------+\n",
      "|       Lat_centers|        Lon_centers|Req_number|Nearest_POIID|\n",
      "+------------------+-------------------+----------+-------------+\n",
      "| 42.57333335876465|-136.03424697324454|         0|         POI1|\n",
      "| 43.61199836730957|-136.03424697324454|         0|         POI1|\n",
      "| 44.65066337585449|-136.03424697324454|         0|         POI1|\n",
      "| 45.68932838439942|-136.03424697324454|         0|         POI1|\n",
      "|46.727993392944335|-136.03424697324454|         0|         POI1|\n",
      "| 47.76665840148926|-136.03424697324454|         0|         POI1|\n",
      "| 48.80532341003418|-136.03424697324454|         0|         POI1|\n",
      "|  49.8439884185791|-136.03424697324454|         0|         POI1|\n",
      "|50.882653427124026|-136.03424697324454|         0|         POI1|\n",
      "|51.921318435668944|-136.03424697324454|         0|         POI1|\n",
      "+------------------+-------------------+----------+-------------+\n",
      "only showing top 10 rows\n",
      "\n"
     ]
    }
   ],
   "source": [
    "lat_cent = []\n",
    "lon_cent = []\n",
    "num_req = []\n",
    "near_poi = []\n",
    "\n",
    "m = int(max_lon - min_lon)\n",
    "n = int(max_lat - min_lat)\n",
    "del_lon = (max_lon - min_lon)/m\n",
    "del_lat = (max_lat - min_lat)/n\n",
    "\n",
    " \n",
    "for i in range(m):\n",
    "    for j in range(n):\n",
    "        lon_cent.append(min_lon +(i+0.5)*del_lon)\n",
    "        lat_cent.append(min_lat +(j+0.5)*del_lat)\n",
    "        \n",
    "        mask = (min_lon +i*del_lon <= df_DataSample.Longitude) & \\\n",
    "            (df_DataSample.Longitude < min_lon +(i+1)*del_lon) & \\\n",
    "            (min_lat +j*del_lat <= df_DataSample.Latitude) & \\\n",
    "            (df_DataSample.Latitude < min_lat +(j+1)*del_lat)\n",
    "        \n",
    "        num_req.append(df_DataSample.filter(mask).count())\n",
    "        \n",
    "        auxlist= []\n",
    "        for l in range(len(data1)):\n",
    "            auxlist.append(euclidean2D(min_lat +(j+0.5)*del_lat, data1[l][1],\n",
    "                      min_lon +(i+0.5)*del_lon, data1[l][2]))\n",
    "        k = argmin(auxlist)\n",
    "        near_poi.append(data1[k][0])\n",
    " \n",
    "\n",
    "data_array1 = []\n",
    "for m in range(len(lat_cent)):    \n",
    "    data_array1.extend([(lat_cent[m], lon_cent[m], num_req[m], near_poi[m])])\n",
    "    \n",
    "df_Densities = spark.createDataFrame(data = data_array1, schema = ['Lat_centers',\n",
    "                            'Lon_centers', 'Req_number', 'Nearest_POIID'])\n",
    "\n",
    "\n",
    "df_Densities.show(10)"
   ]
  },
  {
   "cell_type": "markdown",
   "metadata": {
    "collapsed": true
   },
   "source": [
    "We now consider the mapping of the densities (the numbers of requests per unit square) onto the scale from -10 to 10. The mapping function will be created as follows: 0 requests correspond to -10, 1 request corresponds to -8, 2 yo -6, 3 to -4, 4 to -2, 5 (near average value) to 0, 6,7 to 2, 8,9 requests to 4, 10,11 to 6, 12,13 to 8, while 14 requests or more to 10. The new column with scaled density will be added to the dataframe."
   ]
  },
  {
   "cell_type": "code",
   "execution_count": 25,
   "metadata": {
    "collapsed": false
   },
   "outputs": [
    {
     "name": "stdout",
     "output_type": "stream",
     "text": [
      "+------------------+-------------------+----------+-------------+--------------+\n",
      "|       Lat_centers|        Lon_centers|Req_number|Nearest_POIID|Scaled_density|\n",
      "+------------------+-------------------+----------+-------------+--------------+\n",
      "| 42.57333335876465|-136.03424697324454|         0|         POI1|           -10|\n",
      "| 43.61199836730957|-136.03424697324454|         0|         POI1|           -10|\n",
      "| 44.65066337585449|-136.03424697324454|         0|         POI1|           -10|\n",
      "| 45.68932838439942|-136.03424697324454|         0|         POI1|           -10|\n",
      "|46.727993392944335|-136.03424697324454|         0|         POI1|           -10|\n",
      "| 47.76665840148926|-136.03424697324454|         0|         POI1|           -10|\n",
      "| 48.80532341003418|-136.03424697324454|         0|         POI1|           -10|\n",
      "|  49.8439884185791|-136.03424697324454|         0|         POI1|           -10|\n",
      "|50.882653427124026|-136.03424697324454|         0|         POI1|           -10|\n",
      "|51.921318435668944|-136.03424697324454|         0|         POI1|           -10|\n",
      "+------------------+-------------------+----------+-------------+--------------+\n",
      "only showing top 10 rows\n",
      "\n"
     ]
    }
   ],
   "source": [
    "from pyspark.sql.functions import udf, col\n",
    "from pyspark.sql.types import IntegerType\n",
    "\n",
    "def map_func(k):\n",
    "    if k == 0: return -10\n",
    "    elif k == 1: return -8\n",
    "    elif k == 2: return -6\n",
    "    elif k == 3: return -4\n",
    "    elif k == 4: return -2\n",
    "    elif k == 5: return 0\n",
    "    elif (k == 6)| (k == 7): return 2\n",
    "    elif (k == 8)| (k == 9): return 4\n",
    "    elif (k == 10)| (k == 11): return 6\n",
    "    elif (k == 12)| (k == 13): return 8\n",
    "    else: return 10\n",
    "    \n",
    "map_func_udf = udf(lambda z: map_func(z), IntegerType())\n",
    "\n",
    "df_Densities = df_Densities.withColumn('Scaled_density', map_func_udf(col('Req_number')))\n",
    "\n",
    "df_Densities.persist()\n",
    "\n",
    "df_Densities.show(10)"
   ]
  },
  {
   "cell_type": "markdown",
   "metadata": {
    "collapsed": true
   },
   "source": [
    "Finally, we will plot the results using the scatter plot using the variable marker sizes. The unit areas that have greater than average scaled density are denoted with circles of blue green and red color, while those with smaller than average scaled density are represented with the lighter shadows of the abovementined colors"
   ]
  },
  {
   "cell_type": "code",
   "execution_count": 26,
   "metadata": {
    "collapsed": false
   },
   "outputs": [
    {
     "data": {
      "image/png": "[encoded data removed]",
      "text/plain": [
       "<matplotlib.figure.Figure at 0x29eb060b588>"
      ]
     },
     "metadata": {},
     "output_type": "display_data"
    }
   ],
   "source": [
    "plt.figure(figsize=(15,5))\n",
    "\n",
    "mask1a = (df_Densities.Nearest_POIID == 'POI1') & (df_Densities.Scaled_density >0)\n",
    "mask1b = (df_Densities.Nearest_POIID == 'POI1') & (df_Densities.Scaled_density <=0)\n",
    "\n",
    "mask2a = (df_Densities.Nearest_POIID == 'POI3') & (df_Densities.Scaled_density >0)\n",
    "mask2b = (df_Densities.Nearest_POIID == 'POI3') & (df_Densities.Scaled_density <=0)\n",
    "\n",
    "mask3a = (df_Densities.Nearest_POIID == 'POI4') & (df_Densities.Scaled_density >0)\n",
    "mask3b = (df_Densities.Nearest_POIID == 'POI4') & (df_Densities.Scaled_density <=0)\n",
    "\n",
    "plt.scatter(\\\n",
    "[i.Lon_centers for i in df_Densities.filter(mask1a).select('Lon_centers').collect()],\n",
    "[i.Lat_centers for i in df_Densities.filter(mask1a).select('Lat_centers').collect()],\n",
    "color = 'b', marker = 'o',\n",
    "s = [4*(i.Scaled_density +10) for i in df_Densities.filter(mask1a).select('Scaled_density').\\\n",
    "     collect()], label='POI1')\n",
    "\n",
    "plt.scatter(\\\n",
    "[i.Lon_centers for i in df_Densities.filter(mask1b).select('Lon_centers').collect()],\n",
    "[i.Lat_centers for i in df_Densities.filter(mask1b).select('Lat_centers').collect()],\n",
    "color = 'dodgerblue', marker = 'o',\n",
    "s = [4*(i.Scaled_density +10) for i in df_Densities.filter(mask1b).select('Scaled_density').\\\n",
    "     collect()], label='POI1')\n",
    "\n",
    "plt.scatter(\\\n",
    "[i.Lon_centers for i in df_Densities.filter(mask2a).select('Lon_centers').collect()],\n",
    "[i.Lat_centers for i in df_Densities.filter(mask2a).select('Lat_centers').collect()],\n",
    "color = 'g', marker = 'o',\n",
    "s = [4*(i.Scaled_density +10) for i in df_Densities.filter(mask2a).select('Scaled_density').\\\n",
    "     collect()], label='POI3')\n",
    "\n",
    "plt.scatter(\\\n",
    "[i.Lon_centers for i in df_Densities.filter(mask2b).select('Lon_centers').collect()],\n",
    "[i.Lat_centers for i in df_Densities.filter(mask2b).select('Lat_centers').collect()],\n",
    "color = 'lawngreen', marker = 'o',\n",
    "s = [4*(i.Scaled_density +10) for i in df_Densities.filter(mask2b).select('Scaled_density').\\\n",
    "     collect()], label='POI3')\n",
    "\n",
    "plt.scatter(\\\n",
    "[i.Lon_centers for i in df_Densities.filter(mask3a).select('Lon_centers').collect()],\n",
    "[i.Lat_centers for i in df_Densities.filter(mask3a).select('Lat_centers').collect()],\n",
    "color = 'r', marker = 'o',\n",
    "s = [4*(i.Scaled_density +10) for i in df_Densities.filter(mask3a).select('Scaled_density').\\\n",
    "     collect()], label='POI4')\n",
    "\n",
    "plt.scatter(\\\n",
    "[i.Lon_centers for i in df_Densities.filter(mask3b).select('Lon_centers').collect()],\n",
    "[i.Lat_centers for i in df_Densities.filter(mask3b).select('Lat_centers').collect()],\n",
    "color = 'coral', marker = 'o',\n",
    "s = [4*(i.Scaled_density +10) for i in df_Densities.filter(mask3b).select('Scaled_density').\\\n",
    "     collect()], label='POI4')\n",
    "\n",
    "\n",
    "plt.ylim((40,70))\n",
    "plt.xlim((-140,-50))\n",
    "\n",
    "plt.xlabel('LONGITUDE', fontsize =15)\n",
    "plt.ylabel('LATITUDE', fontsize =15)\n",
    "plt.legend(fontsize = 14, loc =1)\n",
    "plt.title('SCALED DENSITIES', fontsize =16)\n",
    "\n",
    "plt.show()"
   ]
  },
  {
   "cell_type": "markdown",
   "metadata": {},
   "source": [
    "We see that the highest requests densities came the densely populated areas around large provincial cities as well as Greater Toronto Area."
   ]
  },
  {
   "cell_type": "markdown",
   "metadata": {},
   "source": [
    "## Model: Part 2"
   ]
  },
  {
   "cell_type": "markdown",
   "metadata": {},
   "source": [
    "In this section, we perform some statistical tests with respect to the Distances in the df_DataSample.Distance column. We first determine whether the Distances for each POI obey the normal distributions with the calculated mean and standard deviation. We will use the normaltest from scipy.stats module. The null-hypothesis states that data obey normal distribution. Running the tests leads to extremely small p_values indicating that the data in all three 'Distance' datasets do not obey normal distribution."
   ]
  },
  {
   "cell_type": "code",
   "execution_count": 27,
   "metadata": {
    "collapsed": false
   },
   "outputs": [
    {
     "name": "stdout",
     "output_type": "stream",
     "text": [
      "p-value for null-hypothesis that Distances around POI1 obey normal distribution: 0.0\n",
      "p-value for null-hypothesis that Distances around POI3 obey normal distribution: 2.30147134039e-286\n",
      "p-value for null-hypothesis that Distances around POI4 obey normal distribution: 7.28054340406e-36\n"
     ]
    }
   ],
   "source": [
    "from scipy import stats\n",
    "\n",
    "_, p1 = stats.normaltest(\\\n",
    "[i.Distance for i in df_DataSample.filter(df_DataSample.Nearest_POIID == 'POI1').\\\n",
    " select('Distance').collect()])\n",
    "\n",
    "_, p3 = stats.normaltest(\\\n",
    "[i.Distance for i in df_DataSample.filter(df_DataSample.Nearest_POIID == 'POI3').\\\n",
    " select('Distance').collect()])\n",
    "\n",
    "_, p4 = stats.normaltest(\\\n",
    "[i.Distance for i in df_DataSample.filter(df_DataSample.Nearest_POIID == 'POI4').\\\n",
    " select('Distance').collect()])\n",
    "   \n",
    "print('p-value for null-hypothesis that Distances around POI1 obey normal distribution:',p1)\n",
    "print('p-value for null-hypothesis that Distances around POI3 obey normal distribution:',p3)\n",
    "print('p-value for null-hypothesis that Distances around POI4 obey normal distribution:',p4)"
   ]
  },
  {
   "cell_type": "markdown",
   "metadata": {},
   "source": [
    "We can ask a question about a possible form of the distributions of distances. The histogram plots below show that all three distributions for distances from POI are highly non-uniform. Large values are concentrated around certain distances (or in reality certain locations), so it is difficult to think about any well-known texbook continuos distributions the distances can obey. "
   ]
  },
  {
   "cell_type": "code",
   "execution_count": 29,
   "metadata": {
    "collapsed": false
   },
   "outputs": [
    {
     "data": {
      "image/png": "[encoded data removed]",
      "text/plain": [
       "<matplotlib.figure.Figure at 0x29eb1cf9cf8>"
      ]
     },
     "metadata": {},
     "output_type": "display_data"
    }
   ],
   "source": [
    "fig, ax = plt.subplots(1, 3, tight_layout=False, figsize=(14,6))\n",
    "\n",
    "ax[0].hist([i.Distance for i in df_DataSample.filter(df_DataSample.Nearest_POIID == 'POI1').\\\n",
    " select('Distance').collect()], bins=20)\n",
    "\n",
    "ax[1].hist([i.Distance for i in df_DataSample.filter(df_DataSample.Nearest_POIID == 'POI3').\\\n",
    " select('Distance').collect()], bins=20)\n",
    "\n",
    "ax[2].hist([i.Distance for i in df_DataSample.filter(df_DataSample.Nearest_POIID == 'POI4').\\\n",
    " select('Distance').collect()], bins=20)\n",
    "\n",
    "ax[0].set_title('Distribution for POI1')\n",
    "ax[1].set_title('Distribution for POI3')\n",
    "ax[2].set_title('Distribution for POI4')\n",
    "\n",
    "plt.show()"
   ]
  },
  {
   "cell_type": "code",
   "execution_count": null,
   "metadata": {
    "collapsed": true
   },
   "outputs": [],
   "source": []
  }
 ],
 "metadata": {
  "kernelspec": {
   "display_name": "Python 3",
   "language": "python",
   "name": "python3"
  },
  "language_info": {
   "codemirror_mode": {
    "name": "ipython",
    "version": 3
   },
   "file_extension": ".py",
   "mimetype": "text/x-python",
   "name": "python",
   "nbconvert_exporter": "python",
   "pygments_lexer": "ipython3",
   "version": "3.6.0"
  }
 },
 "nbformat": 4,
 "nbformat_minor": 2
}
